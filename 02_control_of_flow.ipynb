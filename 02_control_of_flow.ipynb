{
 "cells": [
  {
   "cell_type": "markdown",
   "id": "16435db8-8908-4975-b6ec-c960ebd9a342",
   "metadata": {
    "editable": true,
    "slideshow": {
     "slide_type": ""
    },
    "tags": []
   },
   "source": [
    "# 제어문\n",
    "\n",
    "## 조건문 (if문)\n",
    "\n",
    "1. if문은 반드시 일정한 참/거짓을 판단 할 수 있는 '조건식'과 함께 사용된다.\n",
    "   - (if <조건식>:)\n",
    "3. `<조건식>` 참(true)인 경우 `: ` 이후의 문장을 실행\n",
    "4. `<조건식>` 거짓(False)인 경우 `else: ` 이후의 문장을 실행\n",
    "\n",
    "if <조건식> :\n",
    "    if의 조선식이 참인 경우 실행\n",
    "else:\n",
    "    if의 조건식이 거짓인 경우 실행 "
   ]
  },
  {
   "cell_type": "code",
   "execution_count": 19,
   "id": "4f8b8123-2037-4154-84d3-d9332cbee6a2",
   "metadata": {},
   "outputs": [
    {
     "name": "stdin",
     "output_type": "stream",
     "text": [
      " 12/25\n"
     ]
    },
    {
     "name": "stdout",
     "output_type": "stream",
     "text": [
      "크리스마스입니다.\n"
     ]
    }
   ],
   "source": [
    "my_string = input()\n",
    "\n",
    "if my_string == '12/25':\n",
    "    print('크리스마스입니다.')\n",
    "else:\n",
    "    print('크리스마스가 아닙니다.')"
   ]
  },
  {
   "cell_type": "code",
   "execution_count": 20,
   "id": "235a99bf-9061-4435-afbe-5dc08a6a73d4",
   "metadata": {},
   "outputs": [
    {
     "name": "stdin",
     "output_type": "stream",
     "text": [
      " 12/24\n"
     ]
    },
    {
     "name": "stdout",
     "output_type": "stream",
     "text": [
      "크리스마스가 아닙니다.\n"
     ]
    }
   ],
   "source": [
    "my_string = input()\n",
    "\n",
    "if my_string == '12/25':\n",
    "    print('크리스마스입니다.')\n",
    "else:\n",
    "    print('크리스마스가 아닙니다.')"
   ]
  },
  {
   "cell_type": "code",
   "execution_count": 31,
   "id": "0831f445-c0f2-440b-b444-8ad3b9211ed6",
   "metadata": {},
   "outputs": [
    {
     "name": "stdin",
     "output_type": "stream",
     "text": [
      "숫자를 입력해주세요 123\n"
     ]
    },
    {
     "name": "stdout",
     "output_type": "stream",
     "text": [
      "홀수입니다.\n"
     ]
    }
   ],
   "source": [
    "num = input('숫자를 입력해주세요')\n",
    "\n",
    "result = int(num) % 2\n",
    "\n",
    "if bool(result) :\n",
    "    print('홀수입니다.')\n",
    "else:\n",
    "    print('짝수입니다.')"
   ]
  },
  {
   "cell_type": "code",
   "execution_count": 34,
   "id": "608e3bc6-efb8-41c5-8fa7-e5e67ec93909",
   "metadata": {},
   "outputs": [
    {
     "name": "stdin",
     "output_type": "stream",
     "text": [
      " 123\n"
     ]
    },
    {
     "name": "stdout",
     "output_type": "stream",
     "text": [
      "홀수\n"
     ]
    }
   ],
   "source": [
    "num = int(input())\n",
    "\n",
    "if num % 2 == 1:\n",
    "    print('홀수')\n",
    "else:\n",
    "    print('짝수')\n",
    "\n"
   ]
  },
  {
   "cell_type": "code",
   "execution_count": 35,
   "id": "f5172567-f9dc-4af4-b6a0-31b265ad16cd",
   "metadata": {},
   "outputs": [
    {
     "name": "stdin",
     "output_type": "stream",
     "text": [
      " 123\n"
     ]
    },
    {
     "name": "stdout",
     "output_type": "stream",
     "text": [
      "홓수\n"
     ]
    }
   ],
   "source": [
    "num = int(input())\n",
    "\n",
    "if num % 2 == 0:\n",
    "    print('짝수')\n",
    "else:\n",
    "    print('홓수')\n",
    "\n"
   ]
  },
  {
   "cell_type": "code",
   "execution_count": 41,
   "id": "d4135ad4-8eeb-49df-a374-010b20d3c3c6",
   "metadata": {},
   "outputs": [
    {
     "name": "stdin",
     "output_type": "stream",
     "text": [
      " 123\n"
     ]
    },
    {
     "name": "stdout",
     "output_type": "stream",
     "text": [
      "홀수\n"
     ]
    }
   ],
   "source": [
    "num = int(input())\n",
    "\n",
    "if num % 2 :\n",
    "    print('홀수')\n",
    "else:\n",
    "    print('짝수')\n",
    "\n"
   ]
  },
  {
   "cell_type": "code",
   "execution_count": 40,
   "id": "f1411fb4-ba1d-44c7-8ced-6dae73fa5058",
   "metadata": {},
   "outputs": [
    {
     "name": "stdin",
     "output_type": "stream",
     "text": [
      " 123\n"
     ]
    },
    {
     "name": "stdout",
     "output_type": "stream",
     "text": [
      "홀수\n"
     ]
    }
   ],
   "source": [
    "if int(input()) % 2 :\n",
    "    print('홀수')\n",
    "else:\n",
    "    print('짝수')\n",
    "\n"
   ]
  },
  {
   "cell_type": "markdown",
   "id": "3f52fa3c-dbdd-498a-9f3d-d305aec902bb",
   "metadata": {},
   "source": [
    "### elif \n",
    "\n",
    "```\n",
    "if <조건식>:\n",
    "    if 조건이 참인 경우\n",
    "elif <조건식>:\n",
    "    elif 조건이 참인 경우\n",
    "```\n",
    "else: \n",
    "    위의 조건식이 하나도 부합하지 않는 경우"
   ]
  },
  {
   "cell_type": "code",
   "execution_count": 55,
   "id": "c9f949c8-d606-4eaa-9a67-686c421000a7",
   "metadata": {},
   "outputs": [
    {
     "name": "stdin",
     "output_type": "stream",
     "text": [
      " 95\n"
     ]
    }
   ],
   "source": [
    "score = int(input())"
   ]
  },
  {
   "cell_type": "code",
   "execution_count": 51,
   "id": "cef1a47d-c0a6-4907-b18a-a6968b530361",
   "metadata": {},
   "outputs": [
    {
     "name": "stdout",
     "output_type": "stream",
     "text": [
      "B\n"
     ]
    }
   ],
   "source": [
    "# 90점 이상 A\n",
    "# 80~89 B\n",
    "# 70~79 C\n",
    "# 나머지 F\n",
    "\n",
    "if score >= 90:\n",
    "    print('A')\n",
    "elif score >= 80 and score <= 89:\n",
    "    print('B')\n",
    "elif 70 <= score <= 79:\n",
    "    print('C')\n",
    "else:\n",
    "    print('F')"
   ]
  },
  {
   "cell_type": "code",
   "execution_count": 56,
   "id": "3c95d941-55da-4d0f-84d2-b11fd66a7677",
   "metadata": {},
   "outputs": [
    {
     "name": "stdout",
     "output_type": "stream",
     "text": [
      "A\n",
      "참잘했어요\n"
     ]
    }
   ],
   "source": [
    "if score >= 90:\n",
    "    print('A')\n",
    "    if score >=95:\n",
    "        print('참잘했어요')\n",
    "elif score >= 80:\n",
    "    print('B')\n"
   ]
  },
  {
   "cell_type": "markdown",
   "id": "7790b0da-97b1-4d4f-91c2-52218e1f8648",
   "metadata": {},
   "source": [
    "### 조건표현식\n",
    "\n",
    "true_value if <조건식> else false_value\n"
   ]
  },
  {
   "cell_type": "code",
   "execution_count": 58,
   "id": "6e55fbff-fc76-4d17-9ded-7c86ecf08036",
   "metadata": {},
   "outputs": [
    {
     "name": "stdout",
     "output_type": "stream",
     "text": [
      "True\n"
     ]
    }
   ],
   "source": [
    "print('True') if 1 > 0 else print('False')"
   ]
  },
  {
   "cell_type": "code",
   "execution_count": 61,
   "id": "65e9ea6a-94c5-4802-9ed7-303d11a5aae9",
   "metadata": {},
   "outputs": [
    {
     "name": "stdout",
     "output_type": "stream",
     "text": [
      "True\n"
     ]
    }
   ],
   "source": [
    "if 1 > 0 :\n",
    "    print('True') \n",
    "else :\n",
    "    print('False')"
   ]
  },
  {
   "cell_type": "code",
   "execution_count": 66,
   "id": "c31bac07-341c-4ee6-b2fc-cf2adb02abca",
   "metadata": {},
   "outputs": [
    {
     "name": "stdout",
     "output_type": "stream",
     "text": [
      "5\n"
     ]
    }
   ],
   "source": [
    "num = 5\n",
    "value = num if num >= 0 else 0\n",
    "print(value)"
   ]
  },
  {
   "cell_type": "code",
   "execution_count": 89,
   "id": "0c0ece1a-62fa-449b-a037-80d0e4d201a5",
   "metadata": {},
   "outputs": [
    {
     "name": "stdout",
     "output_type": "stream",
     "text": [
      "5\n"
     ]
    }
   ],
   "source": [
    "value = num\n",
    "num = 5\n",
    "\n",
    "if num >= 0 :\n",
    "    print(value) \n",
    "else :\n",
    "    print(0)"
   ]
  },
  {
   "cell_type": "code",
   "execution_count": 91,
   "id": "11aa34a7-690a-4f4f-81e9-c76913208419",
   "metadata": {},
   "outputs": [
    {
     "name": "stdout",
     "output_type": "stream",
     "text": [
      "5\n"
     ]
    }
   ],
   "source": [
    "num = 5 \n",
    "\n",
    "if num >= 0 :\n",
    "    valume = num \n",
    "else :\n",
    "    vlaue = 0 \n",
    "    \n",
    "print(value)\n",
    "\n",
    "#강사님\n",
    "- if else print 구조\n",
    "- 결국에는 pritn\n"
   ]
  },
  {
   "cell_type": "markdown",
   "id": "9eb5071e-7216-4618-8786-4fe31bc1ef34",
   "metadata": {},
   "source": [
    "#반복문 \n",
    "\n",
    "##while문\n",
    "\n",
    "    while<조건식>:\n",
    "        실행할 코드\n",
    "    "
   ]
  },
  {
   "cell_type": "code",
   "execution_count": 95,
   "id": "aa639bef-a0e7-4778-988f-36d2b9e3268a",
   "metadata": {},
   "outputs": [
    {
     "name": "stdout",
     "output_type": "stream",
     "text": [
      "0\n",
      "1\n",
      "2\n",
      "3\n",
      "4\n"
     ]
    }
   ],
   "source": [
    "a = 0 \n",
    "\n",
    "while a < 5 :\n",
    "    print(a)\n",
    "    a += 1"
   ]
  },
  {
   "cell_type": "code",
   "execution_count": 98,
   "id": "33b9d429-6878-4ac3-b4be-3139072dc308",
   "metadata": {},
   "outputs": [
    {
     "name": "stdin",
     "output_type": "stream",
     "text": [
      "안녕이라고 말해줘 ㄹㅇㄴㅁㄹ\n",
      "안녕이라고 말해줘 ㄹㅇㄴㅁㄴㅇ\n",
      "안녕이라고 말해줘 ㅇㄹㄴㅁㄹㄴㅇ\n",
      "안녕이라고 말해줘 ㅇㄻㄴㅇㄹㄴㅇ\n",
      "안녕이라고 말해줘 안녕\n"
     ]
    }
   ],
   "source": [
    "greeting = ''\n",
    "while greeting != '안녕' :\n",
    "    greeting = input('안녕이라고 말해줘')\n",
    "     "
   ]
  },
  {
   "cell_type": "code",
   "execution_count": null,
   "id": "510f0382-3fef-42c2-ab85-0676dde7cd89",
   "metadata": {},
   "outputs": [],
   "source": [
    "# for \n",
    "\n",
    "## 정해진 범위 내의 반복\n",
    "\n",
    "for variable(item)in sequnece:\n",
    "    code"
   ]
  },
  {
   "cell_type": "code",
   "execution_count": 99,
   "id": "c1fffb96-a798-49e4-b9b0-4046d32103ad",
   "metadata": {},
   "outputs": [
    {
     "name": "stdout",
     "output_type": "stream",
     "text": [
      "1\n",
      "2\n",
      "3\n",
      "4\n",
      "5\n"
     ]
    }
   ],
   "source": [
    "numbers = [1,2,3,4,5,]\n",
    "\n",
    "for number in numbers :\n",
    "    print(number)\n",
    "    "
   ]
  },
  {
   "cell_type": "code",
   "execution_count": 104,
   "id": "e15913cf-28ee-462d-b373-3498a84eca33",
   "metadata": {},
   "outputs": [
    {
     "ename": "SyntaxError",
     "evalue": "invalid syntax (4278437727.py, line 3)",
     "output_type": "error",
     "traceback": [
      "\u001b[1;36m  Cell \u001b[1;32mIn[104], line 3\u001b[1;36m\u001b[0m\n\u001b[1;33m    for in :\u001b[0m\n\u001b[1;37m        ^\u001b[0m\n\u001b[1;31mSyntaxError\u001b[0m\u001b[1;31m:\u001b[0m invalid syntax\n"
     ]
    }
   ],
   "source": [
    "word = input('단어를 입력해주세요')\n",
    "\n",
    "for in :\n",
    "        print(char)"
   ]
  },
  {
   "cell_type": "code",
   "execution_count": 106,
   "id": "1b1c6ad8-6cb4-41d6-ab97-d5904d0c3b84",
   "metadata": {},
   "outputs": [
    {
     "name": "stdin",
     "output_type": "stream",
     "text": [
      "단어를 입력해주세요 애플\n"
     ]
    }
   ],
   "source": [
    "word = input('단어를 입력해주세요')"
   ]
  },
  {
   "cell_type": "code",
   "execution_count": 108,
   "id": "8397fa71-0793-455a-9c2c-e9ad3546b035",
   "metadata": {},
   "outputs": [
    {
     "name": "stdout",
     "output_type": "stream",
     "text": [
      "0\n",
      "1\n",
      "2\n",
      "3\n",
      "4\n"
     ]
    }
   ],
   "source": [
    "for i in range(5):\n",
    "    print(i)"
   ]
  },
  {
   "cell_type": "code",
   "execution_count": 109,
   "id": "6cd04dbc-9c81-432c-89c9-78ceed3b736b",
   "metadata": {},
   "outputs": [
    {
     "name": "stdout",
     "output_type": "stream",
     "text": [
      "1\n",
      "2\n",
      "3\n",
      "4\n",
      "5\n"
     ]
    }
   ],
   "source": [
    "for i in (1,2,3,4,5) :\n",
    "    print(i)"
   ]
  },
  {
   "cell_type": "code",
   "execution_count": 110,
   "id": "a86a1422-7fbd-4f39-abe1-9c8d73e9b99d",
   "metadata": {},
   "outputs": [],
   "source": [
    "# 1~30까지 숫자들 중에서 홀수만 출력\n"
   ]
  },
  {
   "cell_type": "code",
   "execution_count": 111,
   "id": "0894efc2-5a76-4906-a4a0-09162d56dfe8",
   "metadata": {},
   "outputs": [
    {
     "ename": "SyntaxError",
     "evalue": "invalid syntax (1846987400.py, line 1)",
     "output_type": "error",
     "traceback": [
      "\u001b[1;36m  Cell \u001b[1;32mIn[111], line 1\u001b[1;36m\u001b[0m\n\u001b[1;33m    if for 구문\u001b[0m\n\u001b[1;37m       ^\u001b[0m\n\u001b[1;31mSyntaxError\u001b[0m\u001b[1;31m:\u001b[0m invalid syntax\n"
     ]
    }
   ],
   "source": [
    "if for 구문 "
   ]
  },
  {
   "cell_type": "code",
   "execution_count": 156,
   "id": "243336e6-4fce-4983-bff9-6df8622d65c7",
   "metadata": {},
   "outputs": [
    {
     "ename": "TypeError",
     "evalue": "unsupported operand type(s) for %: 'range' and 'int'",
     "output_type": "error",
     "traceback": [
      "\u001b[1;31m---------------------------------------------------------------------------\u001b[0m",
      "\u001b[1;31mTypeError\u001b[0m                                 Traceback (most recent call last)",
      "Cell \u001b[1;32mIn[156], line 3\u001b[0m\n\u001b[0;32m      1\u001b[0m numbers \u001b[38;5;241m=\u001b[39m \u001b[38;5;28mrange\u001b[39m(\u001b[38;5;241m1\u001b[39m,\u001b[38;5;241m31\u001b[39m)\n\u001b[1;32m----> 3\u001b[0m \u001b[38;5;28;01mif\u001b[39;00m \u001b[38;5;28mint\u001b[39m(\u001b[43mnumbers\u001b[49m\u001b[43m \u001b[49m\u001b[38;5;241;43m%\u001b[39;49m\u001b[43m \u001b[49m\u001b[38;5;241;43m2\u001b[39;49m) \u001b[38;5;241m==\u001b[39m \u001b[38;5;124m\"\u001b[39m\u001b[38;5;124m0\u001b[39m\u001b[38;5;124m\"\u001b[39m :\n\u001b[0;32m      4\u001b[0m     \u001b[38;5;28mprint\u001b[39m(numbers)\n\u001b[0;32m      5\u001b[0m \u001b[38;5;28;01melse\u001b[39;00m :\n",
      "\u001b[1;31mTypeError\u001b[0m: unsupported operand type(s) for %: 'range' and 'int'"
     ]
    }
   ],
   "source": [
    "numbers = range(1,31)\n",
    "\n",
    "if numbers % 2 == 0 :\n",
    "    print(numbers)\n",
    "else :\n",
    "    print(\"\")"
   ]
  },
  {
   "cell_type": "code",
   "execution_count": 140,
   "id": "9dcbad09-02ae-45db-a4dd-757dc4b79e51",
   "metadata": {},
   "outputs": [
    {
     "name": "stdout",
     "output_type": "stream",
     "text": [
      "1\n",
      "3\n",
      "5\n",
      "7\n",
      "9\n",
      "11\n",
      "13\n",
      "15\n",
      "17\n",
      "19\n",
      "21\n",
      "23\n",
      "25\n",
      "27\n",
      "29\n"
     ]
    }
   ],
   "source": [
    "numbers = range(1,31)\n",
    "for number in numbers :\n",
    "    if number % 2:\n",
    "      print(number)  \n"
   ]
  },
  {
   "cell_type": "code",
   "execution_count": 137,
   "id": "e1605859-a69e-4668-8479-df2f7e91ae94",
   "metadata": {},
   "outputs": [
    {
     "name": "stdout",
     "output_type": "stream",
     "text": [
      "(0, '라면')\n",
      "(1, '김밥')\n",
      "(2, '백반')\n"
     ]
    }
   ],
   "source": [
    "menus = ['라면','김밥','백반']\n",
    "for menu in enumerate(menus):\n",
    "    print(menu)"
   ]
  },
  {
   "cell_type": "code",
   "execution_count": 139,
   "id": "55603c83-b0a6-4c16-8185-dc5da139efcb",
   "metadata": {},
   "outputs": [
    {
     "name": "stdout",
     "output_type": "stream",
     "text": [
      "0\n",
      "라면\n",
      "1\n",
      "김밥\n",
      "2\n",
      "백반\n"
     ]
    }
   ],
   "source": [
    "for index,menu in enumerate(menus):\n",
    "    print(index)\n",
    "    print(menu)"
   ]
  },
  {
   "cell_type": "code",
   "execution_count": 146,
   "id": "a2769ad5-e4b0-48bc-b069-74bdbf63a4a8",
   "metadata": {},
   "outputs": [
    {
     "ename": "SyntaxError",
     "evalue": "expected ':' (2785877338.py, line 1)",
     "output_type": "error",
     "traceback": [
      "\u001b[1;36m  Cell \u001b[1;32mIn[146], line 1\u001b[1;36m\u001b[0m\n\u001b[1;33m    if 0\u001b[0m\n\u001b[1;37m        ^\u001b[0m\n\u001b[1;31mSyntaxError\u001b[0m\u001b[1;31m:\u001b[0m expected ':'\n"
     ]
    }
   ],
   "source": [
    "if 0"
   ]
  },
  {
   "cell_type": "code",
   "execution_count": 148,
   "id": "c562c42c-eff9-4577-8ee1-8b31c80779f0",
   "metadata": {},
   "outputs": [
    {
     "ename": "NameError",
     "evalue": "name 'true' is not defined",
     "output_type": "error",
     "traceback": [
      "\u001b[1;31m---------------------------------------------------------------------------\u001b[0m",
      "\u001b[1;31mNameError\u001b[0m                                 Traceback (most recent call last)",
      "Cell \u001b[1;32mIn[148], line 1\u001b[0m\n\u001b[1;32m----> 1\u001b[0m \u001b[38;5;28;01mif\u001b[39;00m \u001b[43mtrue\u001b[49m :\n\u001b[0;32m      2\u001b[0m     \u001b[38;5;28mprint\u001b[39m\n",
      "\u001b[1;31mNameError\u001b[0m: name 'true' is not defined"
     ]
    }
   ],
   "source": [
    "if true :\n",
    "    print\n",
    "    "
   ]
  },
  {
   "cell_type": "code",
   "execution_count": 149,
   "id": "4ced474a-2324-4410-ba15-fe1aef85556c",
   "metadata": {},
   "outputs": [
    {
     "ename": "NameError",
     "evalue": "name 'true' is not defined",
     "output_type": "error",
     "traceback": [
      "\u001b[1;31m---------------------------------------------------------------------------\u001b[0m",
      "\u001b[1;31mNameError\u001b[0m                                 Traceback (most recent call last)",
      "Cell \u001b[1;32mIn[149], line 1\u001b[0m\n\u001b[1;32m----> 1\u001b[0m \u001b[38;5;28;01mif\u001b[39;00m \u001b[43mtrue\u001b[49m :\n\u001b[0;32m      2\u001b[0m   \u001b[38;5;28mprint\u001b[39m(number) \n",
      "\u001b[1;31mNameError\u001b[0m: name 'true' is not defined"
     ]
    }
   ],
   "source": [
    "    if true :\n",
    "      print(number) "
   ]
  },
  {
   "cell_type": "code",
   "execution_count": 150,
   "id": "4a2dbb80-6d4b-4880-acc9-5ca94c9d0b73",
   "metadata": {},
   "outputs": [
    {
     "ename": "SyntaxError",
     "evalue": "incomplete input (4048223792.py, line 1)",
     "output_type": "error",
     "traceback": [
      "\u001b[1;36m  Cell \u001b[1;32mIn[150], line 1\u001b[1;36m\u001b[0m\n\u001b[1;33m    if true :\u001b[0m\n\u001b[1;37m             ^\u001b[0m\n\u001b[1;31mSyntaxError\u001b[0m\u001b[1;31m:\u001b[0m incomplete input\n"
     ]
    }
   ],
   "source": [
    "    if true :"
   ]
  },
  {
   "cell_type": "code",
   "execution_count": 151,
   "id": "173c0d19-81e4-42e8-b6ba-251589462155",
   "metadata": {},
   "outputs": [],
   "source": [
    "### dictionary 반복\n",
    "\n",
    "1.for key in dic\n",
    "2."
   ]
  },
  {
   "cell_type": "code",
   "execution_count": 160,
   "id": "4a50c1a8-9215-44cf-9201-6161a8d61ea0",
   "metadata": {},
   "outputs": [],
   "source": [
    "info = {\n",
    "    'name':'gildong',\n",
    "    'location':'seoul',\n",
    "    'phone':'010-1234-1234',\n",
    "    'age':20,\n",
    "}"
   ]
  },
  {
   "cell_type": "code",
   "execution_count": 175,
   "id": "890fe058-ec49-4752-a238-7ad48e358fcd",
   "metadata": {},
   "outputs": [
    {
     "name": "stdout",
     "output_type": "stream",
     "text": [
      "name\n",
      "gildong\n",
      "location\n",
      "seoul\n",
      "phone\n",
      "010-1234-1234\n",
      "age\n",
      "20\n"
     ]
    }
   ],
   "source": [
    "for cat in info:\n",
    "    print(cat)\n",
    "    print(info[cat])"
   ]
  },
  {
   "cell_type": "code",
   "execution_count": 169,
   "id": "711de6df-074c-40a2-ad91-c2850a0bf920",
   "metadata": {},
   "outputs": [
    {
     "data": {
      "text/plain": [
       "dict_keys(['name', 'location', 'phone', 'age'])"
      ]
     },
     "execution_count": 169,
     "metadata": {},
     "output_type": "execute_result"
    }
   ],
   "source": [
    "info.keys()\n",
    "#for key in info.keys():\n",
    "    "
   ]
  },
  {
   "cell_type": "code",
   "execution_count": 181,
   "id": "11a56399-3fd8-4686-b6ed-a779d64dcb13",
   "metadata": {},
   "outputs": [
    {
     "name": "stdout",
     "output_type": "stream",
     "text": [
      "name\n",
      "gildong\n",
      "location\n",
      "seoul\n",
      "phone\n",
      "010-1234-1234\n",
      "age\n",
      "20\n"
     ]
    }
   ],
   "source": []
  },
  {
   "cell_type": "code",
   "execution_count": 182,
   "id": "91a8db90-6133-49d8-84a7-87fb982fac10",
   "metadata": {},
   "outputs": [
    {
     "name": "stdout",
     "output_type": "stream",
     "text": [
      "gildong\n",
      "seoul\n",
      "010-1234-1234\n",
      "20\n"
     ]
    }
   ],
   "source": [
    "for key in info.values():\n",
    "    print(key)"
   ]
  },
  {
   "cell_type": "code",
   "execution_count": 197,
   "id": "17a6acaf-b131-4252-b495-ba8456e53c3b",
   "metadata": {},
   "outputs": [
    {
     "ename": "ValueError",
     "evalue": "too many values to unpack (expected 2)",
     "output_type": "error",
     "traceback": [
      "\u001b[1;31m---------------------------------------------------------------------------\u001b[0m",
      "\u001b[1;31mValueError\u001b[0m                                Traceback (most recent call last)",
      "Cell \u001b[1;32mIn[197], line 1\u001b[0m\n\u001b[1;32m----> 1\u001b[0m \u001b[38;5;28;01mfor\u001b[39;00m key,value \u001b[38;5;129;01min\u001b[39;00m info:\n\u001b[0;32m      2\u001b[0m     \u001b[38;5;28mprint\u001b[39m(key, value)\n",
      "\u001b[1;31mValueError\u001b[0m: too many values to unpack (expected 2)"
     ]
    }
   ],
   "source": [
    "for key,value in info.items():\n",
    "    print(key, value)"
   ]
  },
  {
   "cell_type": "code",
   "execution_count": 206,
   "id": "53506b39-5db5-4a7e-86c3-2bf516713946",
   "metadata": {},
   "outputs": [],
   "source": [
    "blood_type = {\n",
    "    'A' : 5,\n",
    "    'B' : 3,\n",
    "    'O' : 2,\n",
    "    'AB' : 2,\n",
    "}"
   ]
  },
  {
   "cell_type": "code",
   "execution_count": 192,
   "id": "2b6f175a-a684-4b09-91cf-13a2432e973f",
   "metadata": {},
   "outputs": [
    {
     "name": "stdout",
     "output_type": "stream",
     "text": [
      "혈액형의 종류는\n",
      "A\n",
      "B\n",
      "O\n",
      "AB\n",
      "가 있습니다.\n"
     ]
    }
   ],
   "source": [
    "print('혈액형의 종류는')\n",
    "for key in blood_type.keys() :\n",
    "    print(key)\n",
    "print('가 있습니다.')"
   ]
  },
  {
   "cell_type": "code",
   "execution_count": 198,
   "id": "3c36bc84-675e-472b-99fb-7783a0aafbd6",
   "metadata": {},
   "outputs": [
    {
     "name": "stdout",
     "output_type": "stream",
     "text": [
      "name\n",
      "gildong\n",
      "location\n",
      "seoul\n",
      "phone\n",
      "010-1234-1234\n",
      "age\n",
      "20\n"
     ]
    }
   ],
   "source": [
    "for key in info.keys():\n",
    "    print(key)\n",
    "    print(info[key])"
   ]
  },
  {
   "cell_type": "code",
   "execution_count": 271,
   "id": "f7fbb0d3-046b-4af4-a092-05c325930955",
   "metadata": {},
   "outputs": [
    {
     "name": "stdout",
     "output_type": "stream",
     "text": [
      "12\n"
     ]
    }
   ],
   "source": [
    "# 총 학생수는 몇명입니다.\n",
    "\n",
    "blood_type = {\n",
    "    1 : 5,\n",
    "    2 : 3,\n",
    "    3 : 2,\n",
    "    4 : 2,\n",
    "}\n",
    "\n",
    "result = 0 \n",
    "for value in blood_type.values():\n",
    "    result = result + value\n",
    "\n",
    "print(result)"
   ]
  },
  {
   "cell_type": "code",
   "execution_count": 257,
   "id": "2a8637e0-8239-42f0-949a-68f30518e749",
   "metadata": {},
   "outputs": [
    {
     "name": "stdout",
     "output_type": "stream",
     "text": [
      "10\n"
     ]
    }
   ],
   "source": [
    "blood_type = {\n",
    "    1 : 5,\n",
    "    2 : 3,\n",
    "    3 : 2,\n",
    "    4 : 2,\n",
    "}\n",
    "result = 0\n",
    "for key in blood_type.keys():\n",
    "    result += key\n",
    "\n",
    "print(result)"
   ]
  },
  {
   "cell_type": "code",
   "execution_count": null,
   "id": "2b519d29-ef42-4bad-b162-2f647d32a66c",
   "metadata": {},
   "outputs": [],
   "source": []
  },
  {
   "cell_type": "code",
   "execution_count": null,
   "id": "e95d8221-c740-4cdc-b7d3-340be2ad3a4d",
   "metadata": {},
   "outputs": [],
   "source": []
  },
  {
   "cell_type": "code",
   "execution_count": 226,
   "id": "c3f623cc-a4c2-4cbf-8ebf-ca2b71272290",
   "metadata": {},
   "outputs": [
    {
     "name": "stdout",
     "output_type": "stream",
     "text": [
      "총 학생수는\n",
      "2\n",
      "몇 명입니다.\n"
     ]
    }
   ],
   "source": [
    "print('총 학생수는')\n",
    "blood_type = {\n",
    "    1 : 5,\n",
    "    1 : 3,\n",
    "    1 : 2,\n",
    "    1 : 2,\n",
    "}\n",
    "\n",
    "result = 0 \n",
    "for value in blood_type.values():\n",
    "    result = result + value\n",
    "\n",
    "print(result)\n",
    "print('몇 명입니다.')"
   ]
  },
  {
   "cell_type": "markdown",
   "id": "921827e8-8b08-4d0b-8afc-efeb08225804",
   "metadata": {},
   "source": [
    "##break \n",
    "# 반복문을 종료 시키는 키워드"
   ]
  },
  {
   "cell_type": "code",
   "execution_count": 231,
   "id": "3836af4e-3ae2-438e-bc53-9e655d327124",
   "metadata": {},
   "outputs": [
    {
     "name": "stdout",
     "output_type": "stream",
     "text": [
      "0\n",
      "1\n",
      "2\n",
      "3\n",
      "4\n",
      "5\n",
      "6\n",
      "7\n",
      "8\n",
      "9\n",
      "10\n",
      "11\n",
      "12\n",
      "13\n",
      "14\n",
      "15\n",
      "16\n",
      "17\n",
      "18\n",
      "19\n",
      "20\n",
      "21\n",
      "22\n",
      "23\n",
      "24\n",
      "25\n",
      "26\n",
      "27\n",
      "28\n",
      "29\n",
      "30\n",
      "31\n",
      "32\n",
      "33\n",
      "34\n",
      "35\n",
      "36\n",
      "37\n",
      "38\n",
      "39\n",
      "40\n",
      "41\n",
      "42\n",
      "43\n",
      "44\n",
      "45\n",
      "46\n",
      "47\n",
      "48\n",
      "49\n",
      "50\n",
      "51\n",
      "52\n",
      "53\n",
      "54\n",
      "55\n",
      "56\n",
      "57\n",
      "58\n",
      "59\n",
      "60\n",
      "61\n",
      "62\n",
      "63\n",
      "64\n",
      "65\n",
      "66\n",
      "67\n",
      "68\n",
      "69\n",
      "70\n",
      "71\n",
      "72\n",
      "73\n",
      "74\n",
      "75\n",
      "76\n",
      "77\n",
      "78\n",
      "79\n",
      "80\n",
      "81\n",
      "82\n",
      "83\n",
      "84\n",
      "85\n",
      "86\n",
      "87\n",
      "88\n",
      "89\n",
      "90\n",
      "91\n",
      "92\n",
      "93\n",
      "94\n",
      "95\n",
      "96\n",
      "97\n",
      "98\n",
      "99\n"
     ]
    }
   ],
   "source": [
    "for i in range(100):\n",
    "    print(i)"
   ]
  },
  {
   "cell_type": "code",
   "execution_count": 234,
   "id": "b997f943-4457-49fc-8462-bfab6963f036",
   "metadata": {},
   "outputs": [
    {
     "name": "stdout",
     "output_type": "stream",
     "text": [
      "0\n",
      "1\n",
      "2\n",
      "3\n",
      "4\n",
      "5\n",
      "6\n",
      "7\n",
      "8\n",
      "9\n",
      "10\n"
     ]
    }
   ],
   "source": [
    "for i in range(100):\n",
    "    if i > 10 :\n",
    "        break\n",
    "    print(i)"
   ]
  },
  {
   "cell_type": "code",
   "execution_count": 252,
   "id": "bef97de3-45fe-4c9d-bb58-4006b22ca820",
   "metadata": {},
   "outputs": [
    {
     "name": "stdout",
     "output_type": "stream",
     "text": [
      "보리\n"
     ]
    }
   ],
   "source": [
    "rice = ['보리','보리','보리','보리','쌀','보리']\n",
    "\n",
    "for r in rice:\n",
    "    print(r)\n",
    "    if r == '쌀' : print('잡았다')\n",
    "    break"
   ]
  },
  {
   "cell_type": "code",
   "execution_count": 254,
   "id": "0b2764bb-dfbe-40ec-a121-44fd35116781",
   "metadata": {},
   "outputs": [
    {
     "name": "stdout",
     "output_type": "stream",
     "text": [
      "보리\n",
      "보리\n",
      "보리\n",
      "보리\n",
      "잡았다\n"
     ]
    }
   ],
   "source": [
    "i = 0 \n",
    "\n",
    "while True: \n",
    "    if rice[i] == '쌀':\n",
    "        print('잡았다')\n",
    "        break\n",
    "    print(rice[i])\n",
    "    i = i + 1"
   ]
  },
  {
   "cell_type": "markdown",
   "id": "e12ee653-ac03-45ed-9f82-80ff57d8ff65",
   "metadata": {},
   "source": [
    "### continue\n",
    "\n",
    "continue 이후의 코드를 실행하지 않고 다음 반복을 진행\n"
   ]
  },
  {
   "cell_type": "code",
   "execution_count": 274,
   "id": "ba8c6b44-bef7-4a12-a199-101bf65392d0",
   "metadata": {},
   "outputs": [
    {
     "name": "stdout",
     "output_type": "stream",
     "text": [
      "0\n",
      "2\n",
      "4\n",
      "6\n",
      "8\n",
      "10\n",
      "12\n",
      "14\n",
      "16\n",
      "18\n"
     ]
    }
   ],
   "source": [
    "for i in range(20):\n",
    "    if i % 2 : \n",
    "        continue\n",
    "    print(i)"
   ]
  },
  {
   "cell_type": "code",
   "execution_count": 303,
   "id": "52b75e9b-c873-4b46-a15f-87ed716db32c",
   "metadata": {},
   "outputs": [
    {
     "ename": "SyntaxError",
     "evalue": "invalid syntax. Perhaps you forgot a comma? (4284533807.py, line 6)",
     "output_type": "error",
     "traceback": [
      "\u001b[1;36m  Cell \u001b[1;32mIn[303], line 6\u001b[1;36m\u001b[0m\n\u001b[1;33m    print((age) 살)\u001b[0m\n\u001b[1;37m           ^\u001b[0m\n\u001b[1;31mSyntaxError\u001b[0m\u001b[1;31m:\u001b[0m invalid syntax. Perhaps you forgot a comma?\n"
     ]
    }
   ],
   "source": [
    "ages = [10,20,38,82,11,13,39]\n",
    "\n",
    "for age in ages : \n",
    "    if age <= 20 :\n",
    "        continue\n",
    "    print((age) 살)"
   ]
  },
  {
   "cell_type": "code",
   "execution_count": 284,
   "id": "46450b58-add8-49cb-84f4-d35c11a79a1d",
   "metadata": {},
   "outputs": [
    {
     "name": "stdout",
     "output_type": "stream",
     "text": [
      "0\n",
      "1\n",
      "2\n",
      "3\n",
      "4\n",
      "5\n",
      "6\n",
      "7\n",
      "8\n",
      "9\n",
      "else입니다.\n"
     ]
    }
   ],
   "source": [
    "for i in range(10):\n",
    "    print(i)\n",
    "else:\n",
    "    print('else입니다.')"
   ]
  },
  {
   "cell_type": "code",
   "execution_count": 288,
   "id": "6d883307-5d24-4754-96f8-55a3ea7c9653",
   "metadata": {},
   "outputs": [
    {
     "ename": "SyntaxError",
     "evalue": "invalid syntax (4288372256.py, line 1)",
     "output_type": "error",
     "traceback": [
      "\u001b[1;36m  Cell \u001b[1;32mIn[288], line 1\u001b[1;36m\u001b[0m\n\u001b[1;33m    else\u001b[0m\n\u001b[1;37m    ^\u001b[0m\n\u001b[1;31mSyntaxError\u001b[0m\u001b[1;31m:\u001b[0m invalid syntax\n"
     ]
    }
   ],
   "source": [
    "else\n",
    "else무은 끝까지 반복된후 실행 됩니다. break를 만나지 않았ㅇ르때 실행뵌다."
   ]
  },
  {
   "cell_type": "code",
   "execution_count": 291,
   "id": "684b606a-2274-4ddd-a83f-412db69f43d2",
   "metadata": {},
   "outputs": [
    {
     "name": "stdout",
     "output_type": "stream",
     "text": [
      "0\n"
     ]
    }
   ],
   "source": [
    "for i in range(10):\n",
    "    print(i)\n",
    "    break\n",
    "else:\n",
    "    print('else입니다.')"
   ]
  },
  {
   "cell_type": "code",
   "execution_count": 292,
   "id": "ab64f135-0b06-4d5f-8e7d-b94db05e118c",
   "metadata": {},
   "outputs": [
    {
     "ename": "NameError",
     "evalue": "name 'pss' is not defined",
     "output_type": "error",
     "traceback": [
      "\u001b[1;31m---------------------------------------------------------------------------\u001b[0m",
      "\u001b[1;31mNameError\u001b[0m                                 Traceback (most recent call last)",
      "Cell \u001b[1;32mIn[292], line 1\u001b[0m\n\u001b[1;32m----> 1\u001b[0m \u001b[43mpss\u001b[49m\n",
      "\u001b[1;31mNameError\u001b[0m: name 'pss' is not defined"
     ]
    }
   ],
   "source": [
    "pss"
   ]
  },
  {
   "cell_type": "code",
   "execution_count": 297,
   "id": "3eb17e69-2d1b-4481-acd5-81847e829773",
   "metadata": {},
   "outputs": [],
   "source": [
    "if False:\n",
    "    print('0')\n",
    "    "
   ]
  },
  {
   "cell_type": "code",
   "execution_count": 298,
   "id": "151cd7d9-2272-46e0-a40d-97b4cefc007b",
   "metadata": {},
   "outputs": [
    {
     "ename": "NameError",
     "evalue": "name 'match' is not defined",
     "output_type": "error",
     "traceback": [
      "\u001b[1;31m---------------------------------------------------------------------------\u001b[0m",
      "\u001b[1;31mNameError\u001b[0m                                 Traceback (most recent call last)",
      "Cell \u001b[1;32mIn[298], line 1\u001b[0m\n\u001b[1;32m----> 1\u001b[0m \u001b[38;5;28;43;01mmatch\u001b[39;49;00m\n",
      "\u001b[1;31mNameError\u001b[0m: name 'match' is not defined"
     ]
    }
   ],
   "source": [
    "match"
   ]
  },
  {
   "cell_type": "code",
   "execution_count": null,
   "id": "367c474b-0c28-48cd-9ec0-dd3d10668d09",
   "metadata": {},
   "outputs": [],
   "source": []
  }
 ],
 "metadata": {
  "kernelspec": {
   "display_name": "Python 3 (ipykernel)",
   "language": "python",
   "name": "python3"
  },
  "language_info": {
   "codemirror_mode": {
    "name": "ipython",
    "version": 3
   },
   "file_extension": ".py",
   "mimetype": "text/x-python",
   "name": "python",
   "nbconvert_exporter": "python",
   "pygments_lexer": "ipython3",
   "version": "3.12.4"
  }
 },
 "nbformat": 4,
 "nbformat_minor": 5
}
