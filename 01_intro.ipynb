{
 "cells": [
  {
   "cell_type": "markdown",
   "id": "5fd04890-8896-433f-bd88-bad86f026d58",
   "metadata": {},
   "source": [
    "# 01. intro\n",
    "\n",
    "## shortcut\n",
    "- ctrl + enter : 현재 셀 실행\n",
    "- shift + enter : 현재 셀 실행 & 아래로 이동\n",
    "- alt + enter : 현재 셀 실행 & 아래에 새로운 셀 추가\n",
    "\n",
    "## 주의사항\n",
    "\n",
    "\n",
    "1. Apple / apple\n",
    "2. git add / git add.\n",
    "3. message / massage\n",
    "   "
   ]
  },
  {
   "cell_type": "code",
   "execution_count": 43,
   "id": "7a86f0e9-5265-4d0b-a24e-c72540e7204e",
   "metadata": {},
   "outputs": [],
   "source": [
    "# 여기는 주석입니다. "
   ]
  },
  {
   "cell_type": "markdown",
   "id": "3de0b0a2-eaf9-4cdf-8025-cf13efe1eea4",
   "metadata": {},
   "source": [
    "1. 변수\n",
    "\n",
    "변수이름 = 값\n",
    "\n",
    "- 변수이름은 어떤 이름이든 사용가능\n",
    "- 다만 영어, 숫자, _를 이용하여 선언\n",
    "_- 키워드는 사용 불가\n"
   ]
  },
  {
   "cell_type": "code",
   "execution_count": 40,
   "id": "745bb832-0847-4940-86ea-09992adb615a",
   "metadata": {},
   "outputs": [],
   "source": [
    "a = 20"
   ]
  },
  {
   "cell_type": "code",
   "execution_count": 41,
   "id": "2be6a5b7-75d4-4d8b-b79b-c72437104fd5",
   "metadata": {},
   "outputs": [
    {
     "data": {
      "text/plain": [
       "20"
      ]
     },
     "execution_count": 41,
     "metadata": {},
     "output_type": "execute_result"
    }
   ],
   "source": [
    "a"
   ]
  },
  {
   "cell_type": "code",
   "execution_count": 44,
   "id": "c0f76f72-2385-4fab-ace9-7462283fa6bb",
   "metadata": {},
   "outputs": [],
   "source": [
    "seoul_dust_tage = 10"
   ]
  },
  {
   "cell_type": "code",
   "execution_count": 45,
   "id": "7c97ef74-369d-4bfa-9f4a-3a37a4cb3d61",
   "metadata": {},
   "outputs": [
    {
     "data": {
      "text/plain": [
       "10"
      ]
     },
     "execution_count": 45,
     "metadata": {},
     "output_type": "execute_result"
    }
   ],
   "source": [
    "seoul_dust_tage"
   ]
  },
  {
   "cell_type": "code",
   "execution_count": 47,
   "id": "d50b8927-791c-4ef2-99fb-13ff8fbb7cbe",
   "metadata": {},
   "outputs": [
    {
     "ename": "SyntaxError",
     "evalue": "invalid syntax (3625457936.py, line 1)",
     "output_type": "error",
     "traceback": [
      "\u001b[1;36m  Cell \u001b[1;32mIn[47], line 1\u001b[1;36m\u001b[0m\n\u001b[1;33m    1.1 number\u001b[0m\n\u001b[1;37m        ^\u001b[0m\n\u001b[1;31mSyntaxError\u001b[0m\u001b[1;31m:\u001b[0m invalid syntax\n"
     ]
    }
   ],
   "source": [
    "1.1 number"
   ]
  },
  {
   "cell_type": "code",
   "execution_count": 48,
   "id": "632a5e1f-17d6-46de-b334-f2767c28204a",
   "metadata": {},
   "outputs": [
    {
     "data": {
      "text/plain": [
       "int"
      ]
     },
     "execution_count": 48,
     "metadata": {},
     "output_type": "execute_result"
    }
   ],
   "source": [
    "type(a)"
   ]
  },
  {
   "cell_type": "code",
   "execution_count": 49,
   "id": "d86cac92-45fb-4522-97b6-b9262baf2cf7",
   "metadata": {},
   "outputs": [],
   "source": [
    "b = 1.1"
   ]
  },
  {
   "cell_type": "code",
   "execution_count": 50,
   "id": "9acad643-5340-4429-b294-48b35852e4c4",
   "metadata": {},
   "outputs": [
    {
     "data": {
      "text/plain": [
       "1.1"
      ]
     },
     "execution_count": 50,
     "metadata": {},
     "output_type": "execute_result"
    }
   ],
   "source": [
    "b"
   ]
  },
  {
   "cell_type": "code",
   "execution_count": 51,
   "id": "3a0c7533-7988-413f-b5fa-d66ac46880e7",
   "metadata": {},
   "outputs": [
    {
     "data": {
      "text/plain": [
       "float"
      ]
     },
     "execution_count": 51,
     "metadata": {},
     "output_type": "execute_result"
    }
   ],
   "source": [
    "type(b)"
   ]
  },
  {
   "cell_type": "code",
   "execution_count": 54,
   "id": "c9deaa36-8ac4-4f3d-a5ef-f24895696007",
   "metadata": {},
   "outputs": [],
   "source": [
    "c = 1 -4j"
   ]
  },
  {
   "cell_type": "code",
   "execution_count": 55,
   "id": "497576c8-4e2d-4104-ac22-62837a114a75",
   "metadata": {},
   "outputs": [
    {
     "data": {
      "text/plain": [
       "(1-4j)"
      ]
     },
     "execution_count": 55,
     "metadata": {},
     "output_type": "execute_result"
    }
   ],
   "source": [
    "c"
   ]
  },
  {
   "cell_type": "code",
   "execution_count": 56,
   "id": "bb604e35-1992-4315-b0f4-46881c09a8a5",
   "metadata": {},
   "outputs": [
    {
     "data": {
      "text/plain": [
       "complex"
      ]
     },
     "execution_count": 56,
     "metadata": {},
     "output_type": "execute_result"
    }
   ],
   "source": [
    "type(c)"
   ]
  },
  {
   "cell_type": "code",
   "execution_count": 57,
   "id": "251b83cf-91bd-4283-8ecf-31a2969da985",
   "metadata": {},
   "outputs": [
    {
     "ename": "SyntaxError",
     "evalue": "invalid syntax (2791251902.py, line 3)",
     "output_type": "error",
     "traceback": [
      "\u001b[1;36m  Cell \u001b[1;32mIn[57], line 3\u001b[1;36m\u001b[0m\n\u001b[1;33m    True,False로 이루어진 타입\u001b[0m\n\u001b[1;37m                ^\u001b[0m\n\u001b[1;31mSyntaxError\u001b[0m\u001b[1;31m:\u001b[0m invalid syntax\n"
     ]
    }
   ],
   "source": [
    "### 1.2 boolean\n",
    "\n",
    "True,False로 이루어진 타입\n"
   ]
  },
  {
   "cell_type": "code",
   "execution_count": 58,
   "id": "1d71d521-1cbd-4efb-9fa3-729bdb0f76d5",
   "metadata": {},
   "outputs": [],
   "source": [
    "a = True"
   ]
  },
  {
   "cell_type": "code",
   "execution_count": 59,
   "id": "83dbc733-0861-4a74-9681-1359c9b79e09",
   "metadata": {},
   "outputs": [
    {
     "data": {
      "text/plain": [
       "True"
      ]
     },
     "execution_count": 59,
     "metadata": {},
     "output_type": "execute_result"
    }
   ],
   "source": [
    "a"
   ]
  },
  {
   "cell_type": "code",
   "execution_count": 60,
   "id": "76aad2ce-e7c4-435d-bd67-8ad28ff0f238",
   "metadata": {},
   "outputs": [
    {
     "data": {
      "text/plain": [
       "bool"
      ]
     },
     "execution_count": 60,
     "metadata": {},
     "output_type": "execute_result"
    }
   ],
   "source": [
    "type(a) "
   ]
  },
  {
   "cell_type": "code",
   "execution_count": 62,
   "id": "3afb3406-5abf-4132-ac97-fd64b542e384",
   "metadata": {},
   "outputs": [],
   "source": [
    "b = False"
   ]
  },
  {
   "cell_type": "code",
   "execution_count": 63,
   "id": "8d48e831-0fce-433f-bd52-340475ff7df6",
   "metadata": {},
   "outputs": [
    {
     "data": {
      "text/plain": [
       "False"
      ]
     },
     "execution_count": 63,
     "metadata": {},
     "output_type": "execute_result"
    }
   ],
   "source": [
    "b"
   ]
  },
  {
   "cell_type": "code",
   "execution_count": 64,
   "id": "760fb409-c655-4c68-89ff-3553d37d50ab",
   "metadata": {},
   "outputs": [
    {
     "data": {
      "text/plain": [
       "bool"
      ]
     },
     "execution_count": 64,
     "metadata": {},
     "output_type": "execute_result"
    }
   ],
   "source": [
    "type(b)"
   ]
  },
  {
   "cell_type": "code",
   "execution_count": 65,
   "id": "fa17670b-c5fc-4417-8def-65dce8c90930",
   "metadata": {},
   "outputs": [
    {
     "ename": "SyntaxError",
     "evalue": "invalid syntax (376963461.py, line 1)",
     "output_type": "error",
     "traceback": [
      "\u001b[1;36m  Cell \u001b[1;32mIn[65], line 1\u001b[1;36m\u001b[0m\n\u001b[1;33m    1.3 None\u001b[0m\n\u001b[1;37m        ^\u001b[0m\n\u001b[1;31mSyntaxError\u001b[0m\u001b[1;31m:\u001b[0m invalid syntax\n"
     ]
    }
   ],
   "source": [
    "1.3 None"
   ]
  },
  {
   "cell_type": "code",
   "execution_count": 68,
   "id": "f634f901-8f30-4624-b781-7a163a3b4b85",
   "metadata": {},
   "outputs": [],
   "source": [
    "a = None"
   ]
  },
  {
   "cell_type": "code",
   "execution_count": 69,
   "id": "985646e9-11f3-47ca-b152-57b4c7846fee",
   "metadata": {},
   "outputs": [
    {
     "data": {
      "text/plain": [
       "NoneType"
      ]
     },
     "execution_count": 69,
     "metadata": {},
     "output_type": "execute_result"
    }
   ],
   "source": [
    "type(a)"
   ]
  },
  {
   "cell_type": "code",
   "execution_count": 75,
   "id": "0dbc3a00-1210-4328-80ee-b0ee1d4af8da",
   "metadata": {},
   "outputs": [
    {
     "ename": "SyntaxError",
     "evalue": "unterminated string literal (detected at line 2) (2642048100.py, line 2)",
     "output_type": "error",
     "traceback": [
      "\u001b[1;36m  Cell \u001b[1;32mIn[75], line 2\u001b[1;36m\u001b[0m\n\u001b[1;33m    - 문자열은 ',\"\"을 이용해서 표현\u001b[0m\n\u001b[1;37m           ^\u001b[0m\n\u001b[1;31mSyntaxError\u001b[0m\u001b[1;31m:\u001b[0m unterminated string literal (detected at line 2)\n"
     ]
    }
   ],
   "source": [
    "1.4 string\n",
    "- 문자열은 ',\"\"을 이용해서 표현"
   ]
  },
  {
   "cell_type": "code",
   "execution_count": 77,
   "id": "79f9a63f-97e8-4b9f-ac85-242e7768b2b5",
   "metadata": {},
   "outputs": [],
   "source": [
    "a = 'hello'"
   ]
  },
  {
   "cell_type": "code",
   "execution_count": 78,
   "id": "b477e471-0ef3-4dd1-883a-e08182f02094",
   "metadata": {},
   "outputs": [
    {
     "data": {
      "text/plain": [
       "str"
      ]
     },
     "execution_count": 78,
     "metadata": {},
     "output_type": "execute_result"
    }
   ],
   "source": [
    "type(a)"
   ]
  },
  {
   "cell_type": "code",
   "execution_count": 79,
   "id": "c0e2b5e5-5dd1-4f69-9399-94c9d744b94d",
   "metadata": {},
   "outputs": [],
   "source": [
    "a = \"world\""
   ]
  },
  {
   "cell_type": "code",
   "execution_count": 82,
   "id": "b3294416-a629-4e4c-a8a8-e3735f898c4a",
   "metadata": {},
   "outputs": [
    {
     "data": {
      "text/plain": [
       "str"
      ]
     },
     "execution_count": 82,
     "metadata": {},
     "output_type": "execute_result"
    }
   ],
   "source": [
    "type(a)"
   ]
  },
  {
   "cell_type": "code",
   "execution_count": 83,
   "id": "981a11d8-bb8e-49d0-b561-eb110131ee56",
   "metadata": {
    "scrolled": true
   },
   "outputs": [
    {
     "ename": "SyntaxError",
     "evalue": "invalid syntax (948568665.py, line 1)",
     "output_type": "error",
     "traceback": [
      "\u001b[1;36m  Cell \u001b[1;32mIn[83], line 1\u001b[1;36m\u001b[0m\n\u001b[1;33m    b =\u001b[0m\n\u001b[1;37m        ^\u001b[0m\n\u001b[1;31mSyntaxError\u001b[0m\u001b[1;31m:\u001b[0m invalid syntax\n"
     ]
    }
   ],
   "source": [
    "b = "
   ]
  },
  {
   "cell_type": "code",
   "execution_count": 93,
   "id": "ba242725-b3fc-4e3c-a886-f1a1cee94e16",
   "metadata": {
    "scrolled": true
   },
   "outputs": [
    {
     "ename": "KeyboardInterrupt",
     "evalue": "Interrupted by user",
     "output_type": "error",
     "traceback": [
      "\u001b[1;31m-----------------------------------------------------------------------\u001b[0m",
      "\u001b[1;31mKeyboardInterrupt\u001b[0m                     Traceback (most recent call last)",
      "Cell \u001b[1;32mIn[93], line 1\u001b[0m\n\u001b[1;32m----> 1\u001b[0m age \u001b[38;5;241m=\u001b[39m \u001b[38;5;28;43minput\u001b[39;49m\u001b[43m(\u001b[49m\u001b[43m)\u001b[49m\n\u001b[0;32m      2\u001b[0m \u001b[38;5;28mprint\u001b[39m(age)\n",
      "File \u001b[1;32m~\\Desktop\\DMF\\python\\venv\\Lib\\site-packages\\ipykernel\\kernelbase.py:1282\u001b[0m, in \u001b[0;36mKernel.raw_input\u001b[1;34m(self, prompt)\u001b[0m\n\u001b[0;32m   1280\u001b[0m     msg \u001b[38;5;241m=\u001b[39m \u001b[38;5;124m\"\u001b[39m\u001b[38;5;124mraw_input was called, but this frontend does not support input requests.\u001b[39m\u001b[38;5;124m\"\u001b[39m\n\u001b[0;32m   1281\u001b[0m     \u001b[38;5;28;01mraise\u001b[39;00m StdinNotImplementedError(msg)\n\u001b[1;32m-> 1282\u001b[0m \u001b[38;5;28;01mreturn\u001b[39;00m \u001b[38;5;28;43mself\u001b[39;49m\u001b[38;5;241;43m.\u001b[39;49m\u001b[43m_input_request\u001b[49m\u001b[43m(\u001b[49m\n\u001b[0;32m   1283\u001b[0m \u001b[43m    \u001b[49m\u001b[38;5;28;43mstr\u001b[39;49m\u001b[43m(\u001b[49m\u001b[43mprompt\u001b[49m\u001b[43m)\u001b[49m\u001b[43m,\u001b[49m\n\u001b[0;32m   1284\u001b[0m \u001b[43m    \u001b[49m\u001b[38;5;28;43mself\u001b[39;49m\u001b[38;5;241;43m.\u001b[39;49m\u001b[43m_parent_ident\u001b[49m\u001b[43m[\u001b[49m\u001b[38;5;124;43m\"\u001b[39;49m\u001b[38;5;124;43mshell\u001b[39;49m\u001b[38;5;124;43m\"\u001b[39;49m\u001b[43m]\u001b[49m\u001b[43m,\u001b[49m\n\u001b[0;32m   1285\u001b[0m \u001b[43m    \u001b[49m\u001b[38;5;28;43mself\u001b[39;49m\u001b[38;5;241;43m.\u001b[39;49m\u001b[43mget_parent\u001b[49m\u001b[43m(\u001b[49m\u001b[38;5;124;43m\"\u001b[39;49m\u001b[38;5;124;43mshell\u001b[39;49m\u001b[38;5;124;43m\"\u001b[39;49m\u001b[43m)\u001b[49m\u001b[43m,\u001b[49m\n\u001b[0;32m   1286\u001b[0m \u001b[43m    \u001b[49m\u001b[43mpassword\u001b[49m\u001b[38;5;241;43m=\u001b[39;49m\u001b[38;5;28;43;01mFalse\u001b[39;49;00m\u001b[43m,\u001b[49m\n\u001b[0;32m   1287\u001b[0m \u001b[43m\u001b[49m\u001b[43m)\u001b[49m\n",
      "File \u001b[1;32m~\\Desktop\\DMF\\python\\venv\\Lib\\site-packages\\ipykernel\\kernelbase.py:1325\u001b[0m, in \u001b[0;36mKernel._input_request\u001b[1;34m(self, prompt, ident, parent, password)\u001b[0m\n\u001b[0;32m   1322\u001b[0m \u001b[38;5;28;01mexcept\u001b[39;00m \u001b[38;5;167;01mKeyboardInterrupt\u001b[39;00m:\n\u001b[0;32m   1323\u001b[0m     \u001b[38;5;66;03m# re-raise KeyboardInterrupt, to truncate traceback\u001b[39;00m\n\u001b[0;32m   1324\u001b[0m     msg \u001b[38;5;241m=\u001b[39m \u001b[38;5;124m\"\u001b[39m\u001b[38;5;124mInterrupted by user\u001b[39m\u001b[38;5;124m\"\u001b[39m\n\u001b[1;32m-> 1325\u001b[0m     \u001b[38;5;28;01mraise\u001b[39;00m \u001b[38;5;167;01mKeyboardInterrupt\u001b[39;00m(msg) \u001b[38;5;28;01mfrom\u001b[39;00m \u001b[38;5;28;01mNone\u001b[39;00m\n\u001b[0;32m   1326\u001b[0m \u001b[38;5;28;01mexcept\u001b[39;00m \u001b[38;5;167;01mException\u001b[39;00m:\n\u001b[0;32m   1327\u001b[0m     \u001b[38;5;28mself\u001b[39m\u001b[38;5;241m.\u001b[39mlog\u001b[38;5;241m.\u001b[39mwarning(\u001b[38;5;124m\"\u001b[39m\u001b[38;5;124mInvalid Message:\u001b[39m\u001b[38;5;124m\"\u001b[39m, exc_info\u001b[38;5;241m=\u001b[39m\u001b[38;5;28;01mTrue\u001b[39;00m)\n",
      "\u001b[1;31mKeyboardInterrupt\u001b[0m: Interrupted by user"
     ]
    }
   ],
   "source": [
    "age = input()\n",
    "print(age)"
   ]
  },
  {
   "cell_type": "code",
   "execution_count": 94,
   "id": "bc4218f5-5bf3-46ba-b229-b7026181bf0c",
   "metadata": {},
   "outputs": [
    {
     "ename": "SyntaxError",
     "evalue": "invalid syntax. Perhaps you forgot a comma? (3163345480.py, line 1)",
     "output_type": "error",
     "traceback": [
      "\u001b[1;36m  Cell \u001b[1;32mIn[94], line 1\u001b[1;36m\u001b[0m\n\u001b[1;33m    print('안녕하세요 '오창희'입니다')\u001b[0m\n\u001b[1;37m          ^\u001b[0m\n\u001b[1;31mSyntaxError\u001b[0m\u001b[1;31m:\u001b[0m invalid syntax. Perhaps you forgot a comma?\n"
     ]
    }
   ],
   "source": [
    "print('안녕하세요 '오창희'입니다')"
   ]
  },
  {
   "cell_type": "code",
   "execution_count": 98,
   "id": "414dc0db-8627-405e-9688-aa12ebbb6e2d",
   "metadata": {},
   "outputs": [
    {
     "ename": "SyntaxError",
     "evalue": "unterminated string literal (detected at line 3) (3147954294.py, line 3)",
     "output_type": "error",
     "traceback": [
      "\u001b[1;36m  Cell \u001b[1;32mIn[98], line 3\u001b[1;36m\u001b[0m\n\u001b[1;33m    print('안녕하세요. \"오창희입니다.'')\u001b[0m\n\u001b[1;37m                           ^\u001b[0m\n\u001b[1;31mSyntaxError\u001b[0m\u001b[1;31m:\u001b[0m unterminated string literal (detected at line 3)\n"
     ]
    }
   ],
   "source": [
    "# print('안녕하세요 '오창희'입니다')\n",
    "print(\"안녕하세요, '오창희'입니다.\")\n",
    "print('안녕하세요. \"오창희입니다.'')"
   ]
  },
  {
   "cell_type": "code",
   "execution_count": 99,
   "id": "d706d159-728e-4598-b013-a1c976d607a7",
   "metadata": {},
   "outputs": [
    {
     "ename": "SyntaxError",
     "evalue": "unterminated string literal (detected at line 1) (2704858667.py, line 1)",
     "output_type": "error",
     "traceback": [
      "\u001b[1;36m  Cell \u001b[1;32mIn[99], line 1\u001b[1;36m\u001b[0m\n\u001b[1;33m    print('안녕하세요./'오창희'/입니다.)\u001b[0m\n\u001b[1;37m                      ^\u001b[0m\n\u001b[1;31mSyntaxError\u001b[0m\u001b[1;31m:\u001b[0m unterminated string literal (detected at line 1)\n"
     ]
    }
   ],
   "source": [
    "print('안녕하세요./'오창희'/입니다.)"
   ]
  },
  {
   "cell_type": "code",
   "execution_count": 100,
   "id": "98148222-18bd-49f2-822d-4b40eb739f59",
   "metadata": {},
   "outputs": [
    {
     "ename": "SyntaxError",
     "evalue": "incomplete input (743207207.py, line 1)",
     "output_type": "error",
     "traceback": [
      "\u001b[1;36m  Cell \u001b[1;32mIn[100], line 1\u001b[1;36m\u001b[0m\n\u001b[1;33m    a = '''\u001b[0m\n\u001b[1;37m        ^\u001b[0m\n\u001b[1;31mSyntaxError\u001b[0m\u001b[1;31m:\u001b[0m incomplete input\n"
     ]
    }
   ],
   "source": [
    "a = '''\n",
    "```"
   ]
  },
  {
   "cell_type": "code",
   "execution_count": 101,
   "id": "0eb9e170-8711-4d79-9813-fa214375d3a8",
   "metadata": {},
   "outputs": [
    {
     "ename": "SyntaxError",
     "evalue": "incomplete input (738144432.py, line 1)",
     "output_type": "error",
     "traceback": [
      "\u001b[1;36m  Cell \u001b[1;32mIn[101], line 1\u001b[1;36m\u001b[0m\n\u001b[1;33m    a = '''\u001b[0m\n\u001b[1;37m        ^\u001b[0m\n\u001b[1;31mSyntaxError\u001b[0m\u001b[1;31m:\u001b[0m incomplete input\n"
     ]
    }
   ],
   "source": [
    "a = '''"
   ]
  },
  {
   "cell_type": "code",
   "execution_count": 103,
   "id": "d68097f6-80d0-4ace-bc77-40c91bed837c",
   "metadata": {},
   "outputs": [
    {
     "name": "stdout",
     "output_type": "stream",
     "text": [
      "\n",
      "안녕하세요 '오창희'입니다.\n",
      "여러줄도 작성 가능합니다.\n",
      "\n"
     ]
    }
   ],
   "source": [
    "a = '''\n",
    "안녕하세요 '오창희'입니다.\n",
    "여러줄도 작성 가능합니다.\n",
    "'''\n",
    "print(a)"
   ]
  },
  {
   "cell_type": "code",
   "execution_count": 104,
   "id": "6e221a0d-a69f-4ef8-9c94-c11886992c84",
   "metadata": {},
   "outputs": [
    {
     "name": "stdout",
     "output_type": "stream",
     "text": [
      "안녕하세요. \n"
     ]
    }
   ],
   "source": [
    "print('안녕하세요. ')"
   ]
  },
  {
   "cell_type": "code",
   "execution_count": 107,
   "id": "a189edc2-f72c-44ad-b981-716ea2ac1a85",
   "metadata": {},
   "outputs": [
    {
     "name": "stdout",
     "output_type": "stream",
     "text": [
      "안녕하세요.\n",
      "오창희입니다.\n"
     ]
    }
   ],
   "source": [
    "print('안녕하세요.\\n오창희입니다.')"
   ]
  },
  {
   "cell_type": "code",
   "execution_count": 109,
   "id": "3023c7b6-f795-42bc-99b1-31f96315ce30",
   "metadata": {},
   "outputs": [
    {
     "name": "stdout",
     "output_type": "stream",
     "text": [
      "안녕하세요.\n",
      "오창희입니다. \t들여쓰기 이스케이프 문자열입니다\n"
     ]
    }
   ],
   "source": [
    "print('안녕하세요.\\n오창희입니다. \\t들여쓰기 이스케이프 문자열입니다')"
   ]
  },
  {
   "cell_type": "code",
   "execution_count": 110,
   "id": "18233089-437a-4694-8642-f0f26103e630",
   "metadata": {},
   "outputs": [
    {
     "ename": "SyntaxError",
     "evalue": "invalid syntax (1241796914.py, line 4)",
     "output_type": "error",
     "traceback": [
      "\u001b[1;36m  Cell \u001b[1;32mIn[110], line 4\u001b[1;36m\u001b[0m\n\u001b[1;33m    2. str.format()\u001b[0m\n\u001b[1;37m       ^\u001b[0m\n\u001b[1;31mSyntaxError\u001b[0m\u001b[1;31m:\u001b[0m invalid syntax\n"
     ]
    }
   ],
   "source": [
    "#### string interpolation\n",
    "\n",
    "1. %-formating\n",
    "2. str.format()\n",
    "3. f-string"
   ]
  },
  {
   "cell_type": "code",
   "execution_count": 111,
   "id": "afe49472-570b-4d8f-b761-31837ed5ddfe",
   "metadata": {},
   "outputs": [],
   "source": [
    "age = 10"
   ]
  },
  {
   "cell_type": "code",
   "execution_count": 116,
   "id": "0e8ed11d-14be-4471-9e01-7e9c66d8eb5a",
   "metadata": {},
   "outputs": [
    {
     "name": "stdout",
     "output_type": "stream",
     "text": [
      "홍길동은 10살 입니다.\n"
     ]
    }
   ],
   "source": [
    "print('홍길동은 %s살 입니다.' % age)"
   ]
  },
  {
   "cell_type": "code",
   "execution_count": 118,
   "id": "093cab77-e363-4969-83e5-bc10dd94d510",
   "metadata": {},
   "outputs": [
    {
     "ename": "SyntaxError",
     "evalue": "incomplete input (223367197.py, line 1)",
     "output_type": "error",
     "traceback": [
      "\u001b[1;36m  Cell \u001b[1;32mIn[118], line 1\u001b[1;36m\u001b[0m\n\u001b[1;33m    print('홍길동은 {}살 입니다.'.fortmat(age)\u001b[0m\n\u001b[1;37m                                      ^\u001b[0m\n\u001b[1;31mSyntaxError\u001b[0m\u001b[1;31m:\u001b[0m incomplete input\n"
     ]
    }
   ],
   "source": [
    "print('홍길동은 {}살 입니다.'.fortmat(age)"
   ]
  },
  {
   "cell_type": "code",
   "execution_count": 120,
   "id": "1dbe391c-0472-45e1-9e1c-fe99175a6656",
   "metadata": {},
   "outputs": [
    {
     "name": "stdout",
     "output_type": "stream",
     "text": [
      "홍길동은 10살 입니다.\n"
     ]
    }
   ],
   "source": [
    "print(f'홍길동은 {age}살 입니다.')"
   ]
  },
  {
   "cell_type": "code",
   "execution_count": 122,
   "id": "8fdb1e7e-a37c-435a-994c-0a99d02cb96e",
   "metadata": {},
   "outputs": [
    {
     "ename": "SyntaxError",
     "evalue": "invalid syntax (2261885184.py, line 1)",
     "output_type": "error",
     "traceback": [
      "\u001b[1;36m  Cell \u001b[1;32mIn[122], line 1\u001b[1;36m\u001b[0m\n\u001b[1;33m    2. 연산자\u001b[0m\n\u001b[1;37m       ^\u001b[0m\n\u001b[1;31mSyntaxError\u001b[0m\u001b[1;31m:\u001b[0m invalid syntax\n"
     ]
    }
   ],
   "source": [
    "2. 연산자\n",
    "2.1 산술연산자"
   ]
  },
  {
   "cell_type": "code",
   "execution_count": 129,
   "id": "e2d178ab-e99d-4a5f-a2c3-ae908f322a87",
   "metadata": {},
   "outputs": [],
   "source": [
    "a = 2\n",
    "b = 3"
   ]
  },
  {
   "cell_type": "code",
   "execution_count": 124,
   "id": "c7497625-13a6-4779-8c42-114b53a4a736",
   "metadata": {},
   "outputs": [
    {
     "ename": "TypeError",
     "evalue": "unsupported operand type(s) for +: 'int' and 'str'",
     "output_type": "error",
     "traceback": [
      "\u001b[1;31m-----------------------------------------------------------------------\u001b[0m",
      "\u001b[1;31mTypeError\u001b[0m                             Traceback (most recent call last)",
      "Cell \u001b[1;32mIn[124], line 1\u001b[0m\n\u001b[1;32m----> 1\u001b[0m \u001b[38;5;28mprint\u001b[39m(\u001b[43ma\u001b[49m\u001b[38;5;241;43m+\u001b[39;49m\u001b[43mb\u001b[49m)\n",
      "\u001b[1;31mTypeError\u001b[0m: unsupported operand type(s) for +: 'int' and 'str'"
     ]
    }
   ],
   "source": []
  },
  {
   "cell_type": "code",
   "execution_count": 125,
   "id": "91346e99-07a3-4bfa-a344-5bbe34a45d9c",
   "metadata": {},
   "outputs": [
    {
     "ename": "TypeError",
     "evalue": "unsupported operand type(s) for +: 'int' and 'str'",
     "output_type": "error",
     "traceback": [
      "\u001b[1;31m-----------------------------------------------------------------------\u001b[0m",
      "\u001b[1;31mTypeError\u001b[0m                             Traceback (most recent call last)",
      "Cell \u001b[1;32mIn[125], line 1\u001b[0m\n\u001b[1;32m----> 1\u001b[0m \u001b[38;5;28mprint\u001b[39m(\u001b[43ma\u001b[49m\u001b[38;5;241;43m+\u001b[39;49m\u001b[43mb\u001b[49m)\n\u001b[0;32m      2\u001b[0m \u001b[38;5;28mprint\u001b[39m(a\u001b[38;5;241m-\u001b[39mb)\n\u001b[0;32m      3\u001b[0m \u001b[38;5;28mprint\u001b[39m(a\u001b[38;5;241m*\u001b[39mb)\n",
      "\u001b[1;31mTypeError\u001b[0m: unsupported operand type(s) for +: 'int' and 'str'"
     ]
    }
   ],
   "source": []
  },
  {
   "cell_type": "code",
   "execution_count": 130,
   "id": "a11f496f-7990-45c3-b030-9c578a39c924",
   "metadata": {},
   "outputs": [
    {
     "name": "stdout",
     "output_type": "stream",
     "text": [
      "5\n",
      "-1\n",
      "6\n",
      "0.6666666666666666\n",
      "8\n"
     ]
    }
   ],
   "source": [
    "print(a+b)\n",
    "print(a-b)\n",
    "print(a*b)\n",
    "print(a/b)\n",
    "print(a**b)"
   ]
  },
  {
   "cell_type": "code",
   "execution_count": 131,
   "id": "92613439-cae7-4a47-9691-418ef43fef27",
   "metadata": {},
   "outputs": [
    {
     "name": "stdout",
     "output_type": "stream",
     "text": [
      "0\n"
     ]
    }
   ],
   "source": [
    "print(a//b)"
   ]
  },
  {
   "cell_type": "code",
   "execution_count": 236,
   "id": "819b09eb-b795-4ab3-bdde-6c9ec9874d78",
   "metadata": {},
   "outputs": [],
   "source": [
    "a = 7 \n",
    "b = 3"
   ]
  },
  {
   "cell_type": "code",
   "execution_count": 133,
   "id": "b3e634c2-281a-4d87-ba5d-872240bd8b57",
   "metadata": {},
   "outputs": [
    {
     "name": "stdout",
     "output_type": "stream",
     "text": [
      "2\n"
     ]
    }
   ],
   "source": [
    "print(a//b)"
   ]
  },
  {
   "cell_type": "code",
   "execution_count": 237,
   "id": "02274ed3-3b6b-43f4-b6a4-83332daa8d79",
   "metadata": {},
   "outputs": [
    {
     "name": "stdout",
     "output_type": "stream",
     "text": [
      "(2, 1)\n"
     ]
    }
   ],
   "source": [
    "print(divmod(a,b))"
   ]
  },
  {
   "cell_type": "code",
   "execution_count": 137,
   "id": "50e66631-3923-4b63-92b9-58457fd197c7",
   "metadata": {},
   "outputs": [
    {
     "name": "stdout",
     "output_type": "stream",
     "text": [
      "1\n"
     ]
    }
   ],
   "source": [
    "print(a%b)"
   ]
  },
  {
   "cell_type": "code",
   "execution_count": 136,
   "id": "58084813-7e19-496b-afc7-3c52340385be",
   "metadata": {},
   "outputs": [
    {
     "ename": "NameError",
     "evalue": "name 'divoced' is not defined",
     "output_type": "error",
     "traceback": [
      "\u001b[1;31m-----------------------------------------------------------------------\u001b[0m",
      "\u001b[1;31mNameError\u001b[0m                             Traceback (most recent call last)",
      "Cell \u001b[1;32mIn[136], line 1\u001b[0m\n\u001b[1;32m----> 1\u001b[0m \u001b[38;5;28mprint\u001b[39m(\u001b[43mdivoced\u001b[49m(a,b))\n",
      "\u001b[1;31mNameError\u001b[0m: name 'divoced' is not defined"
     ]
    }
   ],
   "source": [
    "print(divoced(a,b))"
   ]
  },
  {
   "cell_type": "code",
   "execution_count": 141,
   "id": "b8dc766e-e4bd-4f43-93de-a2d6a54eee06",
   "metadata": {},
   "outputs": [
    {
     "name": "stdout",
     "output_type": "stream",
     "text": [
      "False\n",
      "True\n",
      "False\n",
      "True\n"
     ]
    }
   ],
   "source": [
    "print (a > b)\n",
    "print (a < b)\n",
    "print (a >= b)\n",
    "print (a <= b)"
   ]
  },
  {
   "cell_type": "code",
   "execution_count": 140,
   "id": "b776b522-b28c-4eef-b90f-c9e4df66f98f",
   "metadata": {},
   "outputs": [],
   "source": [
    "a =  5\n",
    "b = 10 "
   ]
  },
  {
   "cell_type": "code",
   "execution_count": 143,
   "id": "8abc90e3-ec6b-4828-af31-44dd0fab739e",
   "metadata": {},
   "outputs": [
    {
     "ename": "TypeError",
     "evalue": "'a' is an invalid keyword argument for print()",
     "output_type": "error",
     "traceback": [
      "\u001b[1;31m-----------------------------------------------------------------------\u001b[0m",
      "\u001b[1;31mTypeError\u001b[0m                             Traceback (most recent call last)",
      "Cell \u001b[1;32mIn[143], line 1\u001b[0m\n\u001b[1;32m----> 1\u001b[0m \u001b[38;5;28;43mprint\u001b[39;49m\u001b[43m \u001b[49m\u001b[43m(\u001b[49m\u001b[43ma\u001b[49m\u001b[43m \u001b[49m\u001b[38;5;241;43m=\u001b[39;49m\u001b[43m \u001b[49m\u001b[43mb\u001b[49m\u001b[43m)\u001b[49m\n\u001b[0;32m      2\u001b[0m \u001b[38;5;28mprint\u001b[39m( a\u001b[38;5;241m!=\u001b[39m b)\n",
      "\u001b[1;31mTypeError\u001b[0m: 'a' is an invalid keyword argument for print()"
     ]
    }
   ],
   "source": [
    "print (a = b)\n",
    "print( a!= b)"
   ]
  },
  {
   "cell_type": "code",
   "execution_count": 144,
   "id": "3c0a8579-35e4-4b43-9e30-20ab540e6379",
   "metadata": {},
   "outputs": [
    {
     "ename": "SyntaxError",
     "evalue": "expression cannot contain assignment, perhaps you meant \"==\"? (1230302872.py, line 1)",
     "output_type": "error",
     "traceback": [
      "\u001b[1;36m  Cell \u001b[1;32mIn[144], line 1\u001b[1;36m\u001b[0m\n\u001b[1;33m    print ('hi'='hi')\u001b[0m\n\u001b[1;37m           ^\u001b[0m\n\u001b[1;31mSyntaxError\u001b[0m\u001b[1;31m:\u001b[0m expression cannot contain assignment, perhaps you meant \"==\"?\n"
     ]
    }
   ],
   "source": [
    "print ('hi'='hi')"
   ]
  },
  {
   "cell_type": "code",
   "execution_count": 145,
   "id": "31184737-2a13-4614-b601-f53bbcd79f34",
   "metadata": {},
   "outputs": [
    {
     "name": "stdout",
     "output_type": "stream",
     "text": [
      "True\n"
     ]
    }
   ],
   "source": [
    "print ('hi'=='hi')"
   ]
  },
  {
   "cell_type": "code",
   "execution_count": 146,
   "id": "5bbff2ba-4f6b-4b03-8efe-f51a9432af84",
   "metadata": {},
   "outputs": [
    {
     "ename": "SyntaxError",
     "evalue": "invalid syntax (1080162858.py, line 3)",
     "output_type": "error",
     "traceback": [
      "\u001b[1;36m  Cell \u001b[1;32mIn[146], line 3\u001b[1;36m\u001b[0m\n\u001b[1;33m    - and : 양쪽 모두 True일때, True를 반환\u001b[0m\n\u001b[1;37m      ^\u001b[0m\n\u001b[1;31mSyntaxError\u001b[0m\u001b[1;31m:\u001b[0m invalid syntax\n"
     ]
    }
   ],
   "source": [
    "###2.3 논리 연산자 \n",
    "\n",
    "- and : 양쪽 모두 True일때, True를 반환 \n",
    "- or : 양쪽 모두 False일 때, False를 반환\n",
    "- not"
   ]
  },
  {
   "cell_type": "code",
   "execution_count": 147,
   "id": "92958bfa-b33d-4fe4-8431-29128f636aa3",
   "metadata": {},
   "outputs": [
    {
     "ename": "NameError",
     "evalue": "name 'prnt' is not defined",
     "output_type": "error",
     "traceback": [
      "\u001b[1;31m-----------------------------------------------------------------------\u001b[0m",
      "\u001b[1;31mNameError\u001b[0m                             Traceback (most recent call last)",
      "Cell \u001b[1;32mIn[147], line 1\u001b[0m\n\u001b[1;32m----> 1\u001b[0m \u001b[43mprnt\u001b[49m(\u001b[38;5;28;01mTrue\u001b[39;00m \u001b[38;5;129;01mand\u001b[39;00m \u001b[38;5;28;01mTrue\u001b[39;00m)\n",
      "\u001b[1;31mNameError\u001b[0m: name 'prnt' is not defined"
     ]
    }
   ],
   "source": [
    "prnt(True and True)"
   ]
  },
  {
   "cell_type": "code",
   "execution_count": 148,
   "id": "3a7ff2b5-6c8e-4038-8fbe-cb17bb022c59",
   "metadata": {},
   "outputs": [
    {
     "name": "stdout",
     "output_type": "stream",
     "text": [
      "True\n",
      "False\n",
      "False\n",
      "False\n"
     ]
    }
   ],
   "source": [
    "print(True and True)\n",
    "print(True and False)\n",
    "print(False and True)\n",
    "print(False and False)"
   ]
  },
  {
   "cell_type": "code",
   "execution_count": 149,
   "id": "839241fa-e0c5-4781-97c6-88b32ddc1008",
   "metadata": {},
   "outputs": [
    {
     "name": "stdout",
     "output_type": "stream",
     "text": [
      "True\n",
      "True\n",
      "True\n",
      "False\n"
     ]
    }
   ],
   "source": [
    "print(True or True)\n",
    "print(True or False)\n",
    "print(False or True)\n",
    "print(False or False)"
   ]
  },
  {
   "cell_type": "code",
   "execution_count": 150,
   "id": "7495ff48-69a4-4d1e-a4f7-38dd6d2e97c9",
   "metadata": {},
   "outputs": [
    {
     "name": "stdout",
     "output_type": "stream",
     "text": [
      "False\n"
     ]
    }
   ],
   "source": [
    "print(not True)"
   ]
  },
  {
   "cell_type": "code",
   "execution_count": 153,
   "id": "cbbfea26-8260-4553-9a37-97513ea57fe2",
   "metadata": {},
   "outputs": [
    {
     "name": "stdout",
     "output_type": "stream",
     "text": [
      "False\n"
     ]
    }
   ],
   "source": [
    "result = True\n",
    "print(not result)"
   ]
  },
  {
   "cell_type": "code",
   "execution_count": 154,
   "id": "f72452a6-f9ad-4c26-8c61-6aaeed003aa7",
   "metadata": {
    "scrolled": true
   },
   "outputs": [
    {
     "name": "stdout",
     "output_type": "stream",
     "text": [
      "5\n",
      "0\n",
      "0\n",
      "0\n"
     ]
    }
   ],
   "source": [
    "#단축평가 (and)\n",
    "\n",
    "print(3 and 5)\n",
    "print(3 and 0)\n",
    "print(0 and 3)\n",
    "print(0 and 0)"
   ]
  },
  {
   "cell_type": "code",
   "execution_count": 155,
   "id": "e912357f-09bb-4e47-8520-e9e256b25ce8",
   "metadata": {
    "jupyter": {
     "source_hidden": true
    }
   },
   "outputs": [
    {
     "name": "stdout",
     "output_type": "stream",
     "text": [
      "3\n",
      "3\n",
      "3\n",
      "0\n"
     ]
    }
   ],
   "source": [
    "print(3 or 5)\n",
    "print(3 or 0)\n",
    "print(0 or 3)\n",
    "print(0 or 0)"
   ]
  },
  {
   "cell_type": "code",
   "execution_count": 160,
   "id": "0ed60e27-c7fd-4c2d-b2ab-2974cb678d42",
   "metadata": {},
   "outputs": [],
   "source": [
    "a = 3\n",
    "b = 2"
   ]
  },
  {
   "cell_type": "code",
   "execution_count": 162,
   "id": "2e5afca1-4cfc-480a-b4bc-170e99fa790d",
   "metadata": {},
   "outputs": [],
   "source": [
    "a = a + b\n",
    "a = a - b\n",
    "a = a * b\n",
    "a = a / b"
   ]
  },
  {
   "cell_type": "code",
   "execution_count": 164,
   "id": "52f6426e-1e6d-49fc-966e-8f998a177045",
   "metadata": {},
   "outputs": [],
   "source": [
    "a += b\n",
    "a -= b\n",
    "a *= b\n",
    "a /= b"
   ]
  },
  {
   "cell_type": "code",
   "execution_count": 165,
   "id": "3615efc9-3a43-4d8d-8189-915a6f73d52f",
   "metadata": {},
   "outputs": [],
   "source": [
    "a = 'hi'\n",
    "b = 'hello'"
   ]
  },
  {
   "cell_type": "code",
   "execution_count": 166,
   "id": "1d0bb681-8b54-43d7-91d2-c0dae4082ac5",
   "metadata": {},
   "outputs": [
    {
     "name": "stdout",
     "output_type": "stream",
     "text": [
      "hihello\n"
     ]
    }
   ],
   "source": [
    "print(a+b)"
   ]
  },
  {
   "cell_type": "code",
   "execution_count": 167,
   "id": "1bfc6b02-5e38-406e-8e15-d555b62bdf73",
   "metadata": {},
   "outputs": [],
   "source": [
    "a = [1,2,3]\n",
    "b = [4,5,6]"
   ]
  },
  {
   "cell_type": "code",
   "execution_count": 168,
   "id": "bdaf5576-37a2-4aaf-9965-38f8a34d587f",
   "metadata": {},
   "outputs": [
    {
     "name": "stdout",
     "output_type": "stream",
     "text": [
      "[1, 2, 3, 4, 5, 6]\n"
     ]
    }
   ],
   "source": [
    "print(a+b)"
   ]
  },
  {
   "cell_type": "code",
   "execution_count": 169,
   "id": "aa1f6c03-fb99-483a-ac37-16d737f51504",
   "metadata": {},
   "outputs": [
    {
     "name": "stdout",
     "output_type": "stream",
     "text": [
      "True\n"
     ]
    }
   ],
   "source": [
    "print(1 in a)"
   ]
  },
  {
   "cell_type": "code",
   "execution_count": 171,
   "id": "9dc3cdc3-cfe9-485a-98cf-a5a4cd9fd00f",
   "metadata": {},
   "outputs": [
    {
     "name": "stdout",
     "output_type": "stream",
     "text": [
      "True\n",
      "True\n"
     ]
    }
   ],
   "source": [
    "a = 5\n",
    "b = 5\n",
    "\n",
    "print(a==b)\n",
    "print(a is b)\n",
    "\n"
   ]
  },
  {
   "cell_type": "code",
   "execution_count": 172,
   "id": "c0e562b1-b511-4189-af7a-3eaeb9983b95",
   "metadata": {},
   "outputs": [
    {
     "name": "stdout",
     "output_type": "stream",
     "text": [
      "True\n",
      "False\n"
     ]
    }
   ],
   "source": [
    "a = 123123\n",
    "b = 123123\n",
    "\n",
    "print(a==b)\n",
    "print(a is b)\n"
   ]
  },
  {
   "cell_type": "code",
   "execution_count": 173,
   "id": "eac135e1-4584-4dc4-b792-3c977dbf228c",
   "metadata": {},
   "outputs": [
    {
     "data": {
      "text/plain": [
       "16"
      ]
     },
     "execution_count": 173,
     "metadata": {},
     "output_type": "execute_result"
    }
   ],
   "source": [
    "### 우선순위\n",
    "\n",
    "0. ()를 통해 그룹\n",
    "1. **\n",
    "2. 산술연산자(*,/)\n",
    "3. 산술연산자(+,-)\n",
    "4. 비교연산자, in,is\n",
    "5. not\n",
    "6. and\n",
    "7. or "
   ]
  },
  {
   "cell_type": "code",
   "execution_count": 174,
   "id": "b146d645-5cc2-4f87-bf8e-a2250638c170",
   "metadata": {},
   "outputs": [
    {
     "name": "stdout",
     "output_type": "stream",
     "text": [
      "-81\n",
      "81\n"
     ]
    }
   ],
   "source": [
    "print( -3 ** 4)\n",
    "print( (-3) ** 4)"
   ]
  },
  {
   "cell_type": "markdown",
   "id": "f83a918e-e79e-4fe3-8b67-38422d325894",
   "metadata": {},
   "source": [
    "3. 형변환\n",
    "3.1 암시적 형변환"
   ]
  },
  {
   "cell_type": "code",
   "execution_count": 176,
   "id": "53535b99-3996-4091-9b6d-0d27e8598c40",
   "metadata": {},
   "outputs": [],
   "source": [
    "a = True\n",
    "b = False\n",
    "c = 1"
   ]
  },
  {
   "cell_type": "code",
   "execution_count": 178,
   "id": "1b164afd-61b0-4d9d-bd07-d6892ca142fd",
   "metadata": {},
   "outputs": [
    {
     "name": "stdout",
     "output_type": "stream",
     "text": [
      "1\n",
      "-1\n"
     ]
    }
   ],
   "source": [
    "print(a + b)\n",
    "print(b - c)"
   ]
  },
  {
   "cell_type": "code",
   "execution_count": 182,
   "id": "6652f692-af71-4318-a035-ef7697bff902",
   "metadata": {},
   "outputs": [],
   "source": [
    "int_num = 3\n",
    "float_num = 3.3\n",
    "complex_num = 3 +3j"
   ]
  },
  {
   "cell_type": "code",
   "execution_count": 185,
   "id": "ee8cb278-d1c5-4dac-b98b-8c44964c958c",
   "metadata": {},
   "outputs": [
    {
     "name": "stdout",
     "output_type": "stream",
     "text": [
      "<class 'float'>\n",
      "(6.3+3j)\n"
     ]
    }
   ],
   "source": [
    "print(type(int_num + float_num))\n",
    "print(float_num + complex_num)\n",
    "\n"
   ]
  },
  {
   "cell_type": "markdown",
   "id": "506f15d2-ac60-4c78-a427-793154a6ad81",
   "metadata": {},
   "source": [
    "type(int_num + float_num))"
   ]
  },
  {
   "cell_type": "code",
   "execution_count": 187,
   "id": "7d84f63d-d59b-4861-bc0a-fc2ef70ebfca",
   "metadata": {},
   "outputs": [
    {
     "data": {
      "text/plain": [
       "float"
      ]
     },
     "execution_count": 187,
     "metadata": {},
     "output_type": "execute_result"
    }
   ],
   "source": [
    "type(int_num + float_num)"
   ]
  },
  {
   "cell_type": "code",
   "execution_count": 188,
   "id": "c2554b38-a92d-497c-a192-d889fe72368a",
   "metadata": {},
   "outputs": [
    {
     "name": "stdout",
     "output_type": "stream",
     "text": [
      "<class 'float'>\n"
     ]
    },
    {
     "data": {
      "text/plain": [
       "float"
      ]
     },
     "execution_count": 188,
     "metadata": {},
     "output_type": "execute_result"
    }
   ],
   "source": [
    "print(type(int_num + float_num))\n",
    "type(int_num + float_num)"
   ]
  },
  {
   "cell_type": "markdown",
   "id": "57e3abbb-245e-4826-921a-666ca96741fb",
   "metadata": {},
   "source": [
    "### 명시적 형변환\n",
    "\n",
    "- int() : string, float => int\n",
    "- float() : string, int -> float\n",
    "- str() : int, float -> string\n",
    "- bool() : int, sting => bool "
   ]
  },
  {
   "cell_type": "code",
   "execution_count": 202,
   "id": "e3becc95-c1cf-44d2-834a-823e2fdb0906",
   "metadata": {},
   "outputs": [],
   "source": [
    "a = 1\n",
    "b = '번'"
   ]
  },
  {
   "cell_type": "code",
   "execution_count": 192,
   "id": "cdf63ef1-ff01-4a60-9c42-4033270c3791",
   "metadata": {},
   "outputs": [
    {
     "ename": "TypeError",
     "evalue": "can only concatenate str (not \"int\") to str",
     "output_type": "error",
     "traceback": [
      "\u001b[1;31m-----------------------------------------------------------------------\u001b[0m",
      "\u001b[1;31mTypeError\u001b[0m                             Traceback (most recent call last)",
      "Cell \u001b[1;32mIn[192], line 1\u001b[0m\n\u001b[1;32m----> 1\u001b[0m \u001b[38;5;28mprint\u001b[39m (\u001b[43mb\u001b[49m\u001b[38;5;241;43m+\u001b[39;49m\u001b[43ma\u001b[49m)\n",
      "\u001b[1;31mTypeError\u001b[0m: can only concatenate str (not \"int\") to str"
     ]
    }
   ],
   "source": [
    "print (b+a)"
   ]
  },
  {
   "cell_type": "code",
   "execution_count": 195,
   "id": "beb463fd-2d47-44bc-b95b-32c631eb86e9",
   "metadata": {},
   "outputs": [
    {
     "name": "stdout",
     "output_type": "stream",
     "text": [
      "1번\n"
     ]
    }
   ],
   "source": [
    "print (str(a)+b)\n",
    " "
   ]
  },
  {
   "cell_type": "code",
   "execution_count": 205,
   "id": "d6d44573-d93f-49ef-a062-e4418d185610",
   "metadata": {},
   "outputs": [
    {
     "name": "stdout",
     "output_type": "stream",
     "text": [
      "<class 'str'>\n",
      "<class 'int'>\n"
     ]
    }
   ],
   "source": [
    "a = '3'\n",
    "print(type(a))\n",
    "print(type(int(a)))"
   ]
  },
  {
   "cell_type": "markdown",
   "id": "278f294e-3438-43c9-b32a-54a4444da134",
   "metadata": {},
   "source": []
  },
  {
   "cell_type": "code",
   "execution_count": 206,
   "id": "6c177417-d869-4c8d-9eda-36a4e50f378b",
   "metadata": {},
   "outputs": [
    {
     "ename": "ValueError",
     "evalue": "invalid literal for int() with base 10: 'a'",
     "output_type": "error",
     "traceback": [
      "\u001b[1;31m-----------------------------------------------------------------------\u001b[0m",
      "\u001b[1;31mValueError\u001b[0m                            Traceback (most recent call last)",
      "Cell \u001b[1;32mIn[206], line 2\u001b[0m\n\u001b[0;32m      1\u001b[0m a \u001b[38;5;241m=\u001b[39m \u001b[38;5;124m'\u001b[39m\u001b[38;5;124ma\u001b[39m\u001b[38;5;124m'\u001b[39m\n\u001b[1;32m----> 2\u001b[0m \u001b[38;5;28mprint\u001b[39m(\u001b[38;5;28;43mint\u001b[39;49m\u001b[43m(\u001b[49m\u001b[43ma\u001b[49m\u001b[43m)\u001b[49m)\n",
      "\u001b[1;31mValueError\u001b[0m: invalid literal for int() with base 10: 'a'"
     ]
    }
   ],
   "source": [
    "a = 'a'\n",
    "print(int(a))"
   ]
  },
  {
   "cell_type": "code",
   "execution_count": 208,
   "id": "71bdfcb6-7cac-49d4-8a7a-942eff10441a",
   "metadata": {},
   "outputs": [
    {
     "name": "stdout",
     "output_type": "stream",
     "text": [
      "3.3\n"
     ]
    }
   ],
   "source": [
    "a = '3.3'\n",
    "print(float(a))"
   ]
  },
  {
   "cell_type": "code",
   "execution_count": 209,
   "id": "67984abf-596c-440b-b10a-106abff3345e",
   "metadata": {},
   "outputs": [
    {
     "name": "stdout",
     "output_type": "stream",
     "text": [
      "True\n",
      "False\n"
     ]
    }
   ],
   "source": [
    "a = 1\n",
    "b = 0\n",
    "\n",
    "print(bool(a))\n",
    "print(bool(b))\n"
   ]
  },
  {
   "cell_type": "code",
   "execution_count": 210,
   "id": "c91ac288-46d1-4bd9-b227-8939c4340cc2",
   "metadata": {},
   "outputs": [
    {
     "name": "stdout",
     "output_type": "stream",
     "text": [
      "False\n",
      "True\n"
     ]
    }
   ],
   "source": [
    "print(bool([]))\n",
    "print(bool([1,2,3]))"
   ]
  },
  {
   "cell_type": "markdown",
   "id": "2462ecd7-559b-442f-9b86-2a920fc2c1fa",
   "metadata": {},
   "source": [
    "## 3. 시퀀스 자료형 \n",
    "\n",
    "시퀀스는 데이터의 순서대로 나열된 자료구조. (순서대로 나열되었다는 것은 정렬된것과 다르다)\n",
    "\n",
    "1. list\n",
    "2. tuple\n",
    "3. Range\n",
    "4. String\n"
   ]
  },
  {
   "cell_type": "markdown",
   "id": "e2e5aec7-c0e5-4a68-bc22-7ad43b2b5444",
   "metadata": {},
   "source": [
    "4.1 List(리스트, 배열)\n"
   ]
  },
  {
   "cell_type": "markdown",
   "id": "94575b40-3a24-423c-bf80-6b806489b74c",
   "metadata": {},
   "source": [
    "### 4.1 List(리스트, 배열) \n",
    "- 선언 : 변수이름 = [value1, value2, value3 ...]\n",
    "- 접근 : 변수이름[index]"
   ]
  },
  {
   "cell_type": "code",
   "execution_count": 228,
   "id": "27f2d41c-d298-43eb-b459-1ae388dc30fb",
   "metadata": {},
   "outputs": [
    {
     "ename": "SyntaxError",
     "evalue": "cannot assign to literal here. Maybe you meant '==' instead of '='? (2603818100.py, line 1)",
     "output_type": "error",
     "traceback": [
      "\u001b[1;36m  Cell \u001b[1;32mIn[228], line 1\u001b[1;36m\u001b[0m\n\u001b[1;33m    1 = [ ]\u001b[0m\n\u001b[1;37m    ^\u001b[0m\n\u001b[1;31mSyntaxError\u001b[0m\u001b[1;31m:\u001b[0m cannot assign to literal here. Maybe you meant '==' instead of '='?\n"
     ]
    }
   ],
   "source": [
    "1 = [ ]\n",
    "print(1)\n",
    "print(type(1))"
   ]
  },
  {
   "cell_type": "code",
   "execution_count": 225,
   "id": "30dadbae-5b9d-48a2-b0db-472563677f32",
   "metadata": {},
   "outputs": [
    {
     "name": "stdout",
     "output_type": "stream",
     "text": [
      "['서울', '대전', '부산']\n",
      "부산\n",
      "['서울', '광주', '부산']\n"
     ]
    }
   ],
   "source": [
    "location = ['서울', '대전', '부산']\n",
    "print(location)\n",
    "print(location[2])\n",
    "\n",
    "location[1] = '광주'\n",
    "print(location)\n",
    "\n"
   ]
  },
  {
   "cell_type": "code",
   "execution_count": 229,
   "id": "72888c38-080c-4c3c-840d-a41822959222",
   "metadata": {},
   "outputs": [
    {
     "ename": "SyntaxError",
     "evalue": "illegal target for annotation (2356279218.py, line 2)",
     "output_type": "error",
     "traceback": [
      "\u001b[1;36m  Cell \u001b[1;32mIn[229], line 2\u001b[1;36m\u001b[0m\n\u001b[1;33m    - 선언 : 변수이름 = (value1, value2, value3,)\u001b[0m\n\u001b[1;37m    ^\u001b[0m\n\u001b[1;31mSyntaxError\u001b[0m\u001b[1;31m:\u001b[0m illegal target for annotation\n"
     ]
    }
   ],
   "source": [
    "### 4.2 Tuple (튜플)\n",
    "- 선언 : 변수이름 = (value1, value2, value3,)\n",
    "- 접근 : 변수이름[index]\n",
    "- 리스트와 유사하지만 수정 불가능(immutable)이다."
   ]
  },
  {
   "cell_type": "code",
   "execution_count": 232,
   "id": "b54923de-3c92-4844-8c62-be3ea49f61b5",
   "metadata": {},
   "outputs": [
    {
     "name": "stdout",
     "output_type": "stream",
     "text": [
      "(123, 456, 789)\n",
      "456\n"
     ]
    }
   ],
   "source": [
    "numbers = (123,456,789)\n",
    "print(numbers)\n",
    "print(numbers[1])"
   ]
  },
  {
   "cell_type": "code",
   "execution_count": 233,
   "id": "2bb82416-be83-4fe8-92dc-da37b3afa5cb",
   "metadata": {},
   "outputs": [
    {
     "ename": "TypeError",
     "evalue": "'tuple' object does not support item assignment",
     "output_type": "error",
     "traceback": [
      "\u001b[1;31m-----------------------------------------------------------------------\u001b[0m",
      "\u001b[1;31mTypeError\u001b[0m                             Traceback (most recent call last)",
      "Cell \u001b[1;32mIn[233], line 1\u001b[0m\n\u001b[1;32m----> 1\u001b[0m \u001b[43mnumbers\u001b[49m\u001b[43m[\u001b[49m\u001b[38;5;241;43m1\u001b[39;49m\u001b[43m]\u001b[49m \u001b[38;5;241m=\u001b[39m \u001b[38;5;241m654\u001b[39m\n",
      "\u001b[1;31mTypeError\u001b[0m: 'tuple' object does not support item assignment"
     ]
    }
   ],
   "source": [
    "numbers[1] = 654"
   ]
  },
  {
   "cell_type": "code",
   "execution_count": 240,
   "id": "0f1b47bd-c8bc-4c84-9724-a327db684198",
   "metadata": {},
   "outputs": [
    {
     "name": "stdout",
     "output_type": "stream",
     "text": [
      "1 2\n",
      "2 1\n"
     ]
    }
   ],
   "source": [
    "(x, y) = (1,2)\n",
    "print (x,y)\n",
    "\n",
    "(x, y) = (y,x)\n",
    "print (x,y)\n"
   ]
  },
  {
   "cell_type": "markdown",
   "id": "31f96570-865c-4fb4-bde5-dfc9e22b0fc6",
   "metadata": {},
   "source": [
    "### 4.3 Range\n",
    "\n",
    "- range(n) : 0부터 n-1까지 범위\n",
    "- range(n, m) : n부터 m-1까지 범위\n",
    "- range(n, m, s) : n부터 m-1까지 +s 만큼 증가하는 범위"
   ]
  },
  {
   "cell_type": "code",
   "execution_count": 244,
   "id": "ac30ac52-e505-4a79-bcdd-04a3305181e6",
   "metadata": {},
   "outputs": [
    {
     "name": "stdout",
     "output_type": "stream",
     "text": [
      "range(0, 45)\n",
      "[0, 1, 2, 3, 4, 5, 6, 7, 8, 9, 10, 11, 12, 13, 14, 15, 16, 17, 18, 19, 20, 21, 22, 23, 24, 25, 26, 27, 28, 29, 30, 31, 32, 33, 34, 35, 36, 37, 38, 39, 40, 41, 42, 43, 44]\n"
     ]
    }
   ],
   "source": [
    "lotto = range(45)\n",
    "print(lotto)\n",
    "print(list(lotto))"
   ]
  },
  {
   "cell_type": "code",
   "execution_count": 245,
   "id": "69e35c9c-c200-404b-8bc0-8328b395d583",
   "metadata": {},
   "outputs": [
    {
     "name": "stdout",
     "output_type": "stream",
     "text": [
      "range(5, 10)\n",
      "[5, 6, 7, 8, 9]\n"
     ]
    }
   ],
   "source": [
    "number = range(5,10)\n",
    "print(number)\n",
    "print(list(number))"
   ]
  },
  {
   "cell_type": "code",
   "execution_count": 247,
   "id": "4bc90d83-2e79-467e-9f2f-ffc167087b04",
   "metadata": {},
   "outputs": [
    {
     "name": "stdout",
     "output_type": "stream",
     "text": [
      "range(2, 20, 2)\n",
      "[2, 4, 6, 8, 10, 12, 14, 16, 18]\n"
     ]
    }
   ],
   "source": [
    "even = range(2, 20, 2)\n",
    "print(even)\n",
    "print(list(even))"
   ]
  },
  {
   "cell_type": "code",
   "execution_count": 249,
   "id": "234a37d2-3ed3-4d9f-a7c2-b0831d38a939",
   "metadata": {},
   "outputs": [
    {
     "name": "stdout",
     "output_type": "stream",
     "text": [
      "range(0, -10, -2)\n",
      "[0, -2, -4, -6, -8]\n"
     ]
    }
   ],
   "source": [
    "numbers = range(0,-10, -2)\n",
    "print(numbers)\n",
    "print(list(numbers))"
   ]
  },
  {
   "cell_type": "code",
   "execution_count": 250,
   "id": "b298f9f3-0f8f-4478-b1de-8b8346e80f8b",
   "metadata": {},
   "outputs": [],
   "source": [
    "### 4.4 String"
   ]
  },
  {
   "cell_type": "markdown",
   "id": "eb6ccc27-2a12-4fca-a6b2-576dc3b4db2d",
   "metadata": {},
   "source": [
    "4.5 시퀸스에서 활용 가능한 연산/함수"
   ]
  },
  {
   "cell_type": "code",
   "execution_count": 260,
   "id": "ad94d19e-0bf5-473c-9f0d-31c5aef6ddac",
   "metadata": {},
   "outputs": [],
   "source": [
    "my_list = [1,2,3,4,5]\n",
    "my_tuple = (1,2,3,4,5)\n",
    "my_range = range(5)\n",
    "my_string = '12345'"
   ]
  },
  {
   "cell_type": "code",
   "execution_count": 264,
   "id": "05f6c5f2-9909-4398-9b67-3f904f18fcfd",
   "metadata": {},
   "outputs": [
    {
     "name": "stdout",
     "output_type": "stream",
     "text": [
      "2\n",
      "1\n",
      "0\n",
      "1\n"
     ]
    }
   ],
   "source": [
    "# indexting \n",
    "print(my_list[0])\n",
    "print(my_tuple[0])\n",
    "print(my_range[0])\n",
    "print(my_string[0])\n"
   ]
  },
  {
   "cell_type": "code",
   "execution_count": 267,
   "id": "c6ac8b1c-8837-4bfd-8b1f-c92511bff159",
   "metadata": {},
   "outputs": [
    {
     "name": "stdout",
     "output_type": "stream",
     "text": [
      "[2, 3]\n",
      "(2, 3)\n",
      "range(1, 3)\n",
      "23\n",
      "13\n"
     ]
    }
   ],
   "source": [
    "# slicing  \n",
    "print(my_list[1:3])\n",
    "print(my_tuple[1:3])\n",
    "print(my_range[1:3])\n",
    "print(my_string[1:3])\n",
    "\n",
    "print(my_string[0:4:2])"
   ]
  },
  {
   "cell_type": "code",
   "execution_count": 285,
   "id": "12a0b1cd-88b0-47d3-b33c-e61103b12d09",
   "metadata": {},
   "outputs": [
    {
     "name": "stdout",
     "output_type": "stream",
     "text": [
      "True\n",
      "True\n",
      "True\n"
     ]
    },
    {
     "ename": "TypeError",
     "evalue": "'in <string>' requires string as left operand, not int",
     "output_type": "error",
     "traceback": [
      "\u001b[1;31m-----------------------------------------------------------------------\u001b[0m",
      "\u001b[1;31mTypeError\u001b[0m                             Traceback (most recent call last)",
      "Cell \u001b[1;32mIn[285], line 5\u001b[0m\n\u001b[0;32m      3\u001b[0m \u001b[38;5;28mprint\u001b[39m(\u001b[38;5;241m1\u001b[39m \u001b[38;5;129;01min\u001b[39;00m my_tuple )\n\u001b[0;32m      4\u001b[0m \u001b[38;5;28mprint\u001b[39m(\u001b[38;5;241m1\u001b[39m \u001b[38;5;129;01min\u001b[39;00m my_range )\n\u001b[1;32m----> 5\u001b[0m \u001b[38;5;28mprint\u001b[39m(\u001b[38;5;241;43m1\u001b[39;49m\u001b[43m \u001b[49m\u001b[38;5;129;43;01min\u001b[39;49;00m\u001b[43m \u001b[49m\u001b[43mmy_string\u001b[49m )\n\u001b[0;32m      7\u001b[0m \u001b[38;5;66;03m# not in\u001b[39;00m\n\u001b[0;32m      8\u001b[0m \u001b[38;5;28mprint\u001b[39m(\u001b[38;5;241m1\u001b[39m \u001b[38;5;129;01mnot\u001b[39;00m \u001b[38;5;129;01min\u001b[39;00m my_list)\n",
      "\u001b[1;31mTypeError\u001b[0m: 'in <string>' requires string as left operand, not int"
     ]
    }
   ],
   "source": [
    "# in\n",
    "print(1 in my_list)\n",
    "print(1 in my_tuple )\n",
    "print(1 in my_range )\n",
    "print(1 in my_string )\n",
    "\n",
    "# not in\n",
    "print(1 not in my_list)"
   ]
  },
  {
   "cell_type": "code",
   "execution_count": 276,
   "id": "3a2758cd-65b1-4c92-a894-6c97e90df9b0",
   "metadata": {},
   "outputs": [
    {
     "name": "stdout",
     "output_type": "stream",
     "text": [
      "[1, 2, 3, 4, 5, 6, 7, 8, 9, 10]\n"
     ]
    },
    {
     "ename": "TypeError",
     "evalue": "can only concatenate tuple (not \"list\") to tuple",
     "output_type": "error",
     "traceback": [
      "\u001b[1;31m-----------------------------------------------------------------------\u001b[0m",
      "\u001b[1;31mTypeError\u001b[0m                             Traceback (most recent call last)",
      "Cell \u001b[1;32mIn[276], line 3\u001b[0m\n\u001b[0;32m      1\u001b[0m \u001b[38;5;66;03m# \u001b[39;00m\n\u001b[0;32m      2\u001b[0m \u001b[38;5;28mprint\u001b[39m(my_list\u001b[38;5;241m+\u001b[39m[\u001b[38;5;241m6\u001b[39m,\u001b[38;5;241m7\u001b[39m,\u001b[38;5;241m8\u001b[39m,\u001b[38;5;241m9\u001b[39m,\u001b[38;5;241m10\u001b[39m])\n\u001b[1;32m----> 3\u001b[0m \u001b[38;5;28mprint\u001b[39m(\u001b[43mmy_tuple\u001b[49m\u001b[38;5;241;43m+\u001b[39;49m\u001b[43m \u001b[49m\u001b[43m[\u001b[49m\u001b[38;5;241;43m6\u001b[39;49m\u001b[43m,\u001b[49m\u001b[38;5;241;43m7\u001b[39;49m\u001b[43m,\u001b[49m\u001b[38;5;241;43m8\u001b[39;49m\u001b[43m,\u001b[49m\u001b[38;5;241;43m9\u001b[39;49m\u001b[43m,\u001b[49m\u001b[38;5;241;43m10\u001b[39;49m\u001b[43m]\u001b[49m)\n\u001b[0;32m      4\u001b[0m \u001b[38;5;28mprint\u001b[39m(my_string \u001b[38;5;241m+\u001b[39m \u001b[38;5;124m'\u001b[39m\u001b[38;5;124m67890\u001b[39m\u001b[38;5;124m'\u001b[39m)\n",
      "\u001b[1;31mTypeError\u001b[0m: can only concatenate tuple (not \"list\") to tuple"
     ]
    }
   ],
   "source": [
    "# \n",
    "print(my_list+[6,7,8,9,10])\n",
    "print(my_tuple+ [6,7,8,9,10])\n",
    "print(my_string + '67890')\n"
   ]
  },
  {
   "cell_type": "code",
   "execution_count": 280,
   "id": "73e59b83-3c1e-4420-a3fa-0ea2bd6ca830",
   "metadata": {},
   "outputs": [
    {
     "name": "stdout",
     "output_type": "stream",
     "text": [
      "[1, 2, 3, 4, 5, 6, 7, 8, 9, 10]\n",
      "(1, 2, 3, 4, 5, 6, 7, 8, 9, 10)\n",
      "1234567890\n"
     ]
    }
   ],
   "source": [
    "print(my_list + [6, 7, 8, 9, 10])\n",
    "print(my_tuple + (6,7,8,9,10))\n",
    "print(my_string + '67890')"
   ]
  },
  {
   "cell_type": "code",
   "execution_count": 281,
   "id": "86196533-1c14-4872-abf1-b3130155f334",
   "metadata": {},
   "outputs": [],
   "source": [
    "#*"
   ]
  },
  {
   "cell_type": "code",
   "execution_count": 284,
   "id": "a1fe0b54-4a17-4d33-b293-3d47a7638b9b",
   "metadata": {},
   "outputs": [
    {
     "name": "stdout",
     "output_type": "stream",
     "text": [
      "##########\n",
      "[0, 1, 0, 1, 0, 1, 0, 1, 0, 1, 0, 1, 0, 1, 0, 1, 0, 1, 0, 1]\n"
     ]
    }
   ],
   "source": [
    "print('#'*10)\n",
    "print([0,1]*10)"
   ]
  },
  {
   "cell_type": "code",
   "execution_count": 286,
   "id": "52b36081-f5db-45c7-bcda-8969c795bbd6",
   "metadata": {},
   "outputs": [
    {
     "name": "stdout",
     "output_type": "stream",
     "text": [
      "5\n"
     ]
    }
   ],
   "source": [
    "print(len(my_list))"
   ]
  },
  {
   "cell_type": "code",
   "execution_count": 287,
   "id": "a6b7146d-c643-4878-9699-c1c505d97601",
   "metadata": {},
   "outputs": [
    {
     "name": "stdout",
     "output_type": "stream",
     "text": [
      "5\n",
      "1\n"
     ]
    }
   ],
   "source": [
    "print(max(my_list))\n",
    "print(min(my_list))"
   ]
  },
  {
   "cell_type": "markdown",
   "id": "58d0855f-189b-4973-a44a-dd6297745612",
   "metadata": {},
   "source": [
    "5. 시퀀스형이 아닌 자료 구조\n",
    "\n",
    "   수학에서 사용하는 집합과 동일한 개념\n",
    "   - 선언 : 변수이름 = {value1,value2,value3 ...}\n",
    "   - 특징 : 순서 x/ 중복의 개념이 없음"
   ]
  },
  {
   "cell_type": "code",
   "execution_count": 291,
   "id": "f77849b4-40b7-4e90-b13c-3df41759d483",
   "metadata": {},
   "outputs": [],
   "source": [
    "my_set_a = {1,3,5,7,9}\n",
    "my_set_b = {1,2,3,4,5}"
   ]
  },
  {
   "cell_type": "code",
   "execution_count": 293,
   "id": "4a22b6db-e146-4b77-ae20-578ceb31d4c9",
   "metadata": {},
   "outputs": [
    {
     "ename": "SyntaxError",
     "evalue": "closing parenthesis '}' does not match opening parenthesis '(' (1794138320.py, line 1)",
     "output_type": "error",
     "traceback": [
      "\u001b[1;36m  Cell \u001b[1;32mIn[293], line 1\u001b[1;36m\u001b[0m\n\u001b[1;33m    print( my_set_a - my_set_b}\u001b[0m\n\u001b[1;37m                              ^\u001b[0m\n\u001b[1;31mSyntaxError\u001b[0m\u001b[1;31m:\u001b[0m closing parenthesis '}' does not match opening parenthesis '('\n"
     ]
    }
   ],
   "source": [
    "print( my_set_a - my_set_b}"
   ]
  },
  {
   "cell_type": "code",
   "execution_count": 294,
   "id": "74b5a6e3-c341-49c0-ae61-c389aff9a00a",
   "metadata": {},
   "outputs": [
    {
     "name": "stdout",
     "output_type": "stream",
     "text": [
      "{9, 7}\n"
     ]
    }
   ],
   "source": [
    "print(my_set_a - my_set_b)"
   ]
  },
  {
   "cell_type": "code",
   "execution_count": 295,
   "id": "1c8ebe0d-34cc-4498-a007-13a112e49246",
   "metadata": {},
   "outputs": [
    {
     "ename": "TypeError",
     "evalue": "unsupported operand type(s) for +: 'set' and 'set'",
     "output_type": "error",
     "traceback": [
      "\u001b[1;31m-----------------------------------------------------------------------\u001b[0m",
      "\u001b[1;31mTypeError\u001b[0m                             Traceback (most recent call last)",
      "Cell \u001b[1;32mIn[295], line 1\u001b[0m\n\u001b[1;32m----> 1\u001b[0m \u001b[38;5;28mprint\u001b[39m(\u001b[43mmy_set_a\u001b[49m\u001b[43m \u001b[49m\u001b[38;5;241;43m+\u001b[39;49m\u001b[43m \u001b[49m\u001b[43mmy_set_b\u001b[49m)\n",
      "\u001b[1;31mTypeError\u001b[0m: unsupported operand type(s) for +: 'set' and 'set'"
     ]
    }
   ],
   "source": [
    "print(my_set_a + my_set_b)"
   ]
  },
  {
   "cell_type": "code",
   "execution_count": 296,
   "id": "5ad7fa3d-6368-4a16-b277-3afb5de36d9d",
   "metadata": {},
   "outputs": [
    {
     "name": "stdout",
     "output_type": "stream",
     "text": [
      "{1, 3, 5}\n"
     ]
    }
   ],
   "source": [
    "print(my_set_a & my_set_b)"
   ]
  },
  {
   "cell_type": "code",
   "execution_count": 300,
   "id": "45998bfc-f244-40af-af8c-cc40c4fb9459",
   "metadata": {},
   "outputs": [
    {
     "name": "stdout",
     "output_type": "stream",
     "text": [
      "{1, 2, 3, 4, 5, 7, 9}\n"
     ]
    }
   ],
   "source": [
    "print(my_set_a | my_set_b)"
   ]
  },
  {
   "cell_type": "code",
   "execution_count": 301,
   "id": "d334a9bd-bb44-4be5-881d-3a9c5560750a",
   "metadata": {},
   "outputs": [],
   "source": [
    "### 5.2 Dictionary\n",
    "-선언 : 변수이름 = {key1 :value1, key2:value2, ...}\n",
    "-접근 : 변수이름[key]"
   ]
  },
  {
   "cell_type": "code",
   "execution_count": 305,
   "id": "10b1a2de-05b6-4644-9976-f0fa30646fd3",
   "metadata": {},
   "outputs": [
    {
     "name": "stdout",
     "output_type": "stream",
     "text": [
      "{'서울': '02', '경기': '031'}\n",
      "02\n"
     ]
    }
   ],
   "source": [
    "my_dict = {'서울': '02','경기':'031'}\n",
    "print(my_dict)\n",
    "print(my_dict['서울'])"
   ]
  },
  {
   "cell_type": "code",
   "execution_count": 312,
   "id": "522762d2-3cce-4182-ae74-6be3abaa261e",
   "metadata": {},
   "outputs": [
    {
     "name": "stdout",
     "output_type": "stream",
     "text": [
      "seoul\n"
     ]
    }
   ],
   "source": [
    "my_info = {\n",
    "    'name': 'husuk',\n",
    "    'location':'seoul',\n",
    "    'age' : 10,\n",
    "}\n",
    "print(my_info['location'])\n",
    "\n"
   ]
  },
  {
   "cell_type": "code",
   "execution_count": 313,
   "id": "58a0ea15-c100-40c5-8eb5-17f57e63e97c",
   "metadata": {},
   "outputs": [
    {
     "ename": "SyntaxError",
     "evalue": "invalid decimal literal (2044277512.py, line 11)",
     "output_type": "error",
     "traceback": [
      "\u001b[1;36m  Cell \u001b[1;32mIn[313], line 11\u001b[1;36m\u001b[0m\n\u001b[1;33m    3.range() : immutuable\u001b[0m\n\u001b[1;37m     ^\u001b[0m\n\u001b[1;31mSyntaxError\u001b[0m\u001b[1;31m:\u001b[0m invalid decimal literal\n"
     ]
    }
   ],
   "source": [
    "#### 데이터 타입 \n",
    "1. Number\n",
    "2. Boolean\n",
    "3. String\n",
    "\n",
    "#### 자료구조\n",
    "- 시퀀스 자료형\n",
    "\n",
    "1.[list] : mutuable\n",
    "2.(Tuple) : immutuable\n",
    "3.range() : immutuable\n",
    "4.'String' : immutuable\n",
    "\n",
    "- 시퀀스가 아닌 자료형\n",
    "1.{Set} : mutuable\n",
    "2. {Dict: ionary} : mutuable"
   ]
  },
  {
   "cell_type": "code",
   "execution_count": 315,
   "id": "3328bf03-bce9-4d7d-93d6-1911554f8826",
   "metadata": {},
   "outputs": [
    {
     "name": "stdout",
     "output_type": "stream",
     "text": [
      "hello\n",
      "world\n"
     ]
    }
   ],
   "source": [
    "a = 'hello'\n",
    "print(a)\n",
    "a = 'world'\n",
    "print(a)"
   ]
  },
  {
   "cell_type": "code",
   "execution_count": null,
   "id": "9c707cfa-004c-4df4-aaa7-54bbbd33b252",
   "metadata": {},
   "outputs": [],
   "source": []
  }
 ],
 "metadata": {
  "kernelspec": {
   "display_name": "Python 3 (ipykernel)",
   "language": "python",
   "name": "python3"
  },
  "language_info": {
   "codemirror_mode": {
    "name": "ipython",
    "version": 3
   },
   "file_extension": ".py",
   "mimetype": "text/x-python",
   "name": "python",
   "nbconvert_exporter": "python",
   "pygments_lexer": "ipython3",
   "version": "3.12.4"
  }
 },
 "nbformat": 4,
 "nbformat_minor": 5
}
