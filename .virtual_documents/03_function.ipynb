result = my_max2(1,2)
print(result)



def my_list_max()


def my_list_max(list1,list2):
    pass


my_list_max([1,2,3,],[4,5,6])
