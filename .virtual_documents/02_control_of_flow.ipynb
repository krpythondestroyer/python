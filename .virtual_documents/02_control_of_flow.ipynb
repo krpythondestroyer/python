


my_string = input()

if my_string == '12/25':
    print('크리스마스입니다.')
else:
    print('크리스마스가 아닙니다.')


my_string = input()

if my_string == '12/25':
    print('크리스마스입니다.')
else:
    print('크리스마스가 아닙니다.')


num = input('숫자를 입력해주세요')

result = int(num) % 2

if bool(result) :
    print('홀수입니다.')
else:
    print('짝수입니다.')


num = int(input())

if num % 2 == 1:
    print('홀수')
else:
    print('짝수')




num = int(input())

if num % 2 == 0:
    print('짝수')
else:
    print('홓수')




num = int(input())

if num % 2 :
    print('홀수')
else:
    print('짝수')




if int(input()) % 2 :
    print('홀수')
else:
    print('짝수')







score = int(input())


# 90점 이상 A
# 80~89 B
# 70~79 C
# 나머지 F

if score >= 90:
    print('A')
elif score >= 80 and score <= 89:
    print('B')
elif 70 <= score <= 79:
    print('C')
else:
    print('F')


if score >= 90:
    print('A')
    if score >=95:
        print('참잘했어요')
elif score >= 80:
    print('B')






print('True') if 1 > 0 else print('False')


if 1 > 0 :
    print('True') 
else :
    print('False')


num = 5
value = num if num >= 0 else 0
print(value)


value = num
num = 5

if num >= 0 :
    print(value) 
else :
    print(0)


num = 5 

if num >= 0 :
    valume = num 
else :
    vlaue = 0 
    
print(value)

#강사님
- if else print 구조
- 결국에는 pritn






a = 0 

while a < 5 :
    print(a)
    a += 1


greeting = ''
while greeting != '안녕' :
    greeting = input('안녕이라고 말해줘')
     


# for 

## 정해진 범위 내의 반복

for variable(item)in sequnece:
    code


numbers = [1,2,3,4,5,]

for number in numbers :
    print(number)
    


word = input('단어를 입력해주세요')

for in :
        print(char)


word = input('단어를 입력해주세요')


for i in range(5):
    print(i)


for i in (1,2,3,4,5) :
    print(i)


# 1~30까지 숫자들 중에서 홀수만 출력



if for 구문 


numbers = range(1,31)

if numbers % 2 == 0 :
    print(numbers)
else :
    print("")


numbers = range(1,31)
for number in numbers :
    if number % 2:
      print(number)  



menus = ['라면','김밥','백반']
for menu in enumerate(menus):
    print(menu)


for index,menu in enumerate(menus):
    print(index)
    print(menu)


if 0


if true :
    print
    


    if true :
      print(number) 


    if true :


### dictionary 반복

1.for key in dic
2.


info = {
    'name':'gildong',
    'location':'seoul',
    'phone':'010-1234-1234',
    'age':20,
}


for cat in info:
    print(cat)
    print(info[cat])


info.keys()
#for key in info.keys():
    





for key in info.values():
    print(key)


for key,value in info.items():
    print(key, value)


blood_type = {
    'A' : 5,
    'B' : 3,
    'O' : 2,
    'AB' : 2,
}


print('혈액형의 종류는')
for key in blood_type.keys() :
    print(key)
print('가 있습니다.')


for key in info.keys():
    print(key)
    print(info[key])


# 총 학생수는 몇명입니다.

blood_type = {
    1 : 5,
    2 : 3,
    3 : 2,
    4 : 2,
}

result = 0 
for value in blood_type.values():
    result = result + value

print(result)


blood_type = {
    1 : 5,
    2 : 3,
    3 : 2,
    4 : 2,
}
result = 0
for key in blood_type.keys():
    result += key

print(result)








print('총 학생수는')
blood_type = {
    1 : 5,
    1 : 3,
    1 : 2,
    1 : 2,
}

result = 0 
for value in blood_type.values():
    result = result + value

print(result)
print('몇 명입니다.')





for i in range(100):
    print(i)


for i in range(100):
    if i > 10 :
        break
    print(i)


rice = ['보리','보리','보리','보리','쌀','보리']

for r in rice:
    print(r)
    if r == '쌀' : print('잡았다')
    break


i = 0 

while True: 
    if rice[i] == '쌀':
        print('잡았다')
        break
    print(rice[i])
    i = i + 1





for i in range(20):
    if i % 2 : 
        continue
    print(i)


ages = [10,20,38,82,11,13,39]

for age in ages : 
    if age <= 20 :
        continue
    print((age) 살)


for i in range(10):
    print(i)
else:
    print('else입니다.')


else
else무은 끝까지 반복된후 실행 됩니다. break를 만나지 않았ㅇ르때 실행뵌다.


for i in range(10):
    print(i)
    break
else:
    print('else입니다.')


pss


if False:
    print('0')
    


match



