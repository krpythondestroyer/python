{
 "cells": [
  {
   "cell_type": "markdown",
   "id": "a2656df8-f2d4-43bb-8f5f-73f779e5ed76",
   "metadata": {},
   "source": [
    "## 객체 지향 프로그래밍(OOP)"
   ]
  },
  {
   "cell_type": "markdown",
   "id": "8775bded-94cd-45cb-af77-240673812d03",
   "metadata": {},
   "source": [
    "- 클래스(calss) : 같은 종류의 집단에 속하는 속성(attribute)과 행위(methond)를 `정의`한것\n",
    "- 인스턴트(instance) :  클래스를 실제로 메모리상에 `할당`한것\n",
    "- 속성(attribute) : 클래스/혹은 인스턴트가 가지고 있는 `데이터`/값\n",
    "- 행위(methond) : 클래스/인스턴스가 가지고 있는 `함수`/기능\n",
    "\n",
    "\n"
   ]
  },
  {
   "cell_type": "code",
   "execution_count": null,
   "id": "0be32791-be9a-4b23-95b0-5aa2996bc093",
   "metadata": {},
   "outputs": [],
   "source": [
    "number = 1 + 2j"
   ]
  },
  {
   "cell_type": "code",
   "execution_count": null,
   "id": "24758394-9776-44c9-a182-6118c42ed722",
   "metadata": {},
   "outputs": [],
   "source": [
    "type(number)"
   ]
  },
  {
   "cell_type": "code",
   "execution_count": null,
   "id": "ff96aa66-43de-4b5b-9dc3-0b7ec3837cbb",
   "metadata": {},
   "outputs": [],
   "source": [
    "print(number.real)\n",
    "print(number.imag)\n",
    "\n",
    "# 리얼 - 실수 / 이매지- 허수"
   ]
  },
  {
   "cell_type": "code",
   "execution_count": null,
   "id": "95afb483-bcbd-4eea-b4a2-160eedf23e57",
   "metadata": {},
   "outputs": [],
   "source": [
    "numbers = [1,2,3,]\n",
    "type(numbers)\n",
    "\n"
   ]
  },
  {
   "cell_type": "code",
   "execution_count": null,
   "id": "f257c7d9-ce90-4d4f-88e2-25169c36edf1",
   "metadata": {},
   "outputs": [],
   "source": [
    "numbers.reverse()\n",
    "print(numbers)"
   ]
  },
  {
   "cell_type": "code",
   "execution_count": null,
   "id": "4b3509e2-1faf-441f-8842-e5783825d037",
   "metadata": {},
   "outputs": [],
   "source": [
    "power = False\n",
    "number = '010-1234-1234'\n",
    "book = {\n",
    "    'kim' :'010-456-456',\n",
    "    'park' :'010-123-123'    \n",
    "}\n",
    "\n",
    "def call(from_number, to_number):\n",
    "    print(f'{from_number}에서 {to_number}로 전화거는중')\n",
    "\n",
    "call(number,book['kim'])"
   ]
  },
  {
   "cell_type": "code",
   "execution_count": null,
   "id": "30e94290-b82d-4487-a1d2-ff09f237df62",
   "metadata": {},
   "outputs": [],
   "source": [
    "number_kim = '010-456-456'"
   ]
  },
  {
   "cell_type": "markdown",
   "id": "41458c7f-290f-474e-a965-f0b4546a9fc1",
   "metadata": {},
   "source": [
    "## Class\n",
    "\n",
    "- 클래스 선언\n",
    "```python\n",
    "class ClassNmae():\n",
    "    attribute1 = value\n",
    "    attribute2 = value\n",
    "...\n",
    "    def method_name(self):\n",
    "        code\n",
    "    def method_name2(self):\n",
    "        code\n",
    "    \n",
    "```\n",
    "\n",
    "- 인스턴트화 (클래스 실행)\n",
    "\n",
    "c = ClassName()"
   ]
  },
  {
   "cell_type": "code",
   "execution_count": null,
   "id": "20275835-ab80-42b1-85ac-b0ee7d693d62",
   "metadata": {},
   "outputs": [],
   "source": [
    "# 선언 \n",
    "class MyClass():\n",
    "    name = 'kim'\n",
    "\n",
    "    def hello(self):\n",
    "        return('hello')"
   ]
  },
  {
   "cell_type": "code",
   "execution_count": null,
   "id": "b3938380-eca2-43f5-b001-d23587def0d7",
   "metadata": {},
   "outputs": [],
   "source": [
    "# 인스턴트화\n",
    "m = MyClass()\n",
    "print(m)\n",
    "print(type(m))"
   ]
  },
  {
   "cell_type": "code",
   "execution_count": null,
   "id": "96db8f84-9e48-4226-9c05-de950fc30cc9",
   "metadata": {},
   "outputs": [],
   "source": [
    "print(m.name)\n",
    "print(m.hello())"
   ]
  },
  {
   "cell_type": "code",
   "execution_count": null,
   "id": "8327b91b-3452-4caa-8723-3c9245dbeb30",
   "metadata": {},
   "outputs": [],
   "source": [
    "m2 = MyClass()\n",
    "print(m2)"
   ]
  },
  {
   "cell_type": "code",
   "execution_count": null,
   "id": "24713b5d-1186-44e0-8dab-1298a0d0aba4",
   "metadata": {},
   "outputs": [],
   "source": [
    "m2.name = 'park'\n",
    "print(m2.name)\n",
    "print(m2.hello())"
   ]
  },
  {
   "cell_type": "code",
   "execution_count": null,
   "id": "0af16299-83de-49f8-b511-a09a0e15b0fc",
   "metadata": {},
   "outputs": [],
   "source": [
    "class Phone():\n",
    "    power = False\n",
    "    number = '010-0000-0000'\n",
    "    book = {}\n",
    "    model = ''\n",
    "\n",
    "    def on(self):\n",
    "        if self.power == False:\n",
    "            self.power = True\n",
    "\n",
    "    def off(self):\n",
    "        if self.power == True:\n",
    "            self.power = False\n",
    "    def call(self, target):\n",
    "        if self.power == True:\n",
    "            print(f'{self.number}에서 {target}로 전화거는중.')\n",
    "        else:\n",
    "            print('핸드폰이 꺼져있습니다.')"
   ]
  },
  {
   "cell_type": "code",
   "execution_count": null,
   "id": "f7d6a2fe-d8b0-4bc8-85a1-243471dd4067",
   "metadata": {},
   "outputs": [],
   "source": [
    "my_phone = Phone()\n",
    "your_phone = Phone()"
   ]
  },
  {
   "cell_type": "code",
   "execution_count": null,
   "id": "512b0406-22f2-4b63-97dd-773c8801d20c",
   "metadata": {},
   "outputs": [],
   "source": [
    "my_phone.number = '010-1234-1234'\n",
    "print(my_phone.number)"
   ]
  },
  {
   "cell_type": "code",
   "execution_count": null,
   "id": "ec3ea84e-fc33-4dea-8701-613d04168e54",
   "metadata": {},
   "outputs": [],
   "source": [
    "your_phone.number = '010-321-321'\n",
    "print(your_phone.number)"
   ]
  },
  {
   "cell_type": "code",
   "execution_count": null,
   "id": "9592e2bf-70ec-4629-bab1-6454ca6389a7",
   "metadata": {},
   "outputs": [],
   "source": [
    "my_phone.call(your_phone.number)"
   ]
  },
  {
   "cell_type": "code",
   "execution_count": null,
   "id": "cd7ad93c-cbf7-486a-af3a-73748159ee40",
   "metadata": {},
   "outputs": [],
   "source": [
    "my_phone.on()\n",
    "my_phone.call(your_phone.number)\n",
    "my_phone.call('112')"
   ]
  },
  {
   "cell_type": "code",
   "execution_count": null,
   "id": "889400da-a3f8-4eb0-a3d8-b21fcd16dea8",
   "metadata": {},
   "outputs": [],
   "source": [
    "your_phone.on()\n",
    "your_phone.call('119')"
   ]
  },
  {
   "cell_type": "code",
   "execution_count": null,
   "id": "2850f6ee-24aa-4683-8d86-c9a5d0b75c45",
   "metadata": {},
   "outputs": [],
   "source": [
    "third_phone = Phone()\n",
    "Phone.on(third_phone)\n",
    "print(third_phone.power)"
   ]
  },
  {
   "cell_type": "code",
   "execution_count": null,
   "id": "d575d209-bcdc-4733-9b60-14ec85fa9601",
   "metadata": {},
   "outputs": [],
   "source": [
    "#\n",
    "class MyList():\n",
    "    data = []\n",
    "\n",
    "    def append(self, item):\n",
    "        self.data = self.data + [item]\n",
    "        \n",
    "    def pop(self):\n",
    "        result = self.data[-1] \n",
    "        self.data = self.data[:-1]\n",
    "        return result"
   ]
  },
  {
   "cell_type": "code",
   "execution_count": null,
   "id": "2c89e27f-32e4-4885-8390-706e66152646",
   "metadata": {},
   "outputs": [],
   "source": [
    "list_a = MyList()\n",
    "\n",
    "\n",
    "print(list_a.data) # => []\n",
    "\n",
    "list_a.append(5)\n",
    "print(list_a.data) # => [5]\n",
    "list_a.append(10)\n",
    "print(list_a.data) # => [5, 10]\n",
    "\n",
    "list_a.pop()\n",
    "print(list_a.data) #=> [5]"
   ]
  },
  {
   "cell_type": "code",
   "execution_count": null,
   "id": "a8d223c9-d89d-46ea-8d1c-a032874e413d",
   "metadata": {},
   "outputs": [],
   "source": [
    "list_b = MyList()\n",
    "list_b.append('일')\n",
    "list_b.append('이')\n",
    "list_b.append('삼')\n",
    "print(list_b.data)"
   ]
  },
  {
   "cell_type": "markdown",
   "id": "7e6d6d41-77a8-4cdc-8b00-e02fd83b15c2",
   "metadata": {},
   "source": [
    "## 생성자, 소멸자\n",
    "\n",
    "```python\n",
    "class MyClass():\n",
    "\n",
    "    def __init__(self):\n",
    "        pass\n",
    "\n",
    "    def __del__(self):\n",
    "        pass\n",
    "\n",
    "```"
   ]
  },
  {
   "cell_type": "code",
   "execution_count": 7,
   "id": "a071ca09-cc91-4c06-957e-284380945c66",
   "metadata": {},
   "outputs": [],
   "source": [
    "class Person():\n",
    "    name = ''\n",
    "#블랭크 표시를 더안함, 위에는 할당의 의미, 아래는 할당의 의미\n",
    "    ##\n",
    "    \n",
    "    def __init__(self, name='익명'):\n",
    "        self.name = name\n",
    "        print('생성됨')\n",
    "\n",
    "    def __del__(self):\n",
    "        print('소멸됨')\n",
    "\n",
    "##생성자 함수 - 필요한 자료를 넣으면서 생성할때, 만들면서 자동으로 실행  - 결국 객체 위주\n"
   ]
  },
  {
   "cell_type": "code",
   "execution_count": 13,
   "id": "a8f5b574-21f6-466a-9ded-bd2178dd304a",
   "metadata": {},
   "outputs": [
    {
     "data": {
      "text/plain": [
       "['__class__',\n",
       " '__del__',\n",
       " '__delattr__',\n",
       " '__dict__',\n",
       " '__dir__',\n",
       " '__doc__',\n",
       " '__eq__',\n",
       " '__format__',\n",
       " '__ge__',\n",
       " '__getattribute__',\n",
       " '__getstate__',\n",
       " '__gt__',\n",
       " '__hash__',\n",
       " '__init__',\n",
       " '__init_subclass__',\n",
       " '__le__',\n",
       " '__lt__',\n",
       " '__module__',\n",
       " '__ne__',\n",
       " '__new__',\n",
       " '__reduce__',\n",
       " '__reduce_ex__',\n",
       " '__repr__',\n",
       " '__setattr__',\n",
       " '__sizeof__',\n",
       " '__str__',\n",
       " '__subclasshook__',\n",
       " '__weakref__',\n",
       " 'name']"
      ]
     },
     "execution_count": 13,
     "metadata": {},
     "output_type": "execute_result"
    }
   ],
   "source": [
    "dir(Person)"
   ]
  },
  {
   "cell_type": "code",
   "execution_count": 14,
   "id": "20fce3bc-3cd5-446f-a58b-d071744eb949",
   "metadata": {},
   "outputs": [
    {
     "name": "stdout",
     "output_type": "stream",
     "text": [
      "생성됨\n",
      "소멸됨\n",
      "kim\n"
     ]
    }
   ],
   "source": [
    "p1 = Person('kim')\n",
    "print(p1.name)\n"
   ]
  },
  {
   "cell_type": "code",
   "execution_count": 28,
   "id": "023da314-0b2f-4e98-99bf-788e94f40bad",
   "metadata": {},
   "outputs": [
    {
     "name": "stdout",
     "output_type": "stream",
     "text": [
      "생성됨\n",
      "소멸됨\n",
      "익명\n"
     ]
    }
   ],
   "source": [
    "p2 = Person()\n",
    "print(p2.name)\n",
    "\n",
    "#소멸됨 안됨"
   ]
  },
  {
   "cell_type": "code",
   "execution_count": 29,
   "id": "3a18dd94-48ef-44a3-a4c1-50eb6a3d68ee",
   "metadata": {},
   "outputs": [
    {
     "name": "stdout",
     "output_type": "stream",
     "text": [
      "소멸됨\n"
     ]
    }
   ],
   "source": [
    "del p2"
   ]
  },
  {
   "cell_type": "code",
   "execution_count": null,
   "id": "02ad26a4-f740-4c8d-bb8f-f1b8d90cfe6c",
   "metadata": {},
   "outputs": [],
   "source": [
    "class Circle():\n",
    "    pi = 3.14\n",
    "    x = 0\n",
    "    y = 0 \n",
    "\n",
    "    def __init__(self, r, x=0, y=0):\n",
    "        self.r = r\n",
    "        self.x = x\n",
    "        self.y = y\n",
    "\n",
    "    def area(self):\n",
    "        return self.pi * self.r ** 2\n",
    "\n",
    "    def center(self):\n",
    "        return (self.x, self.y)\n",
    "\n",
    "    def move(self,x,y):\n",
    "        self.x = x\n",
    "        self.y = y\n",
    "        print(f'원의 중심이 {x},{y}로 이동했습니다.')\n",
    "        # 이것은 움직이는것이이니 return이 그냥 없는것\n",
    "\n",
    "    def round(self):\n",
    "        \n",
    "        "
   ]
  },
  {
   "cell_type": "code",
   "execution_count": null,
   "id": "54316f9c-1558-4100-b1ea-6a05e53c7dd1",
   "metadata": {},
   "outputs": [],
   "source": [
    "c1 = Circle(5)\n",
    "c2 = Circle(10,3,3)"
   ]
  },
  {
   "cell_type": "code",
   "execution_count": null,
   "id": "f290b63c-8bfd-4480-877f-1937a2877e98",
   "metadata": {},
   "outputs": [],
   "source": [
    "print(c1.area())\n",
    "print(c2.area())"
   ]
  },
  {
   "cell_type": "code",
   "execution_count": null,
   "id": "2df21eab-b980-410d-bb03-23d05fbca69c",
   "metadata": {},
   "outputs": [],
   "source": [
    "print(c1.center())\n",
    "print(c2.center())"
   ]
  },
  {
   "cell_type": "code",
   "execution_count": null,
   "id": "0bddfdc6-c8db-4ed1-8079-7f1a010a2c88",
   "metadata": {},
   "outputs": [],
   "source": [
    "print(c1.move(10,10))\n",
    "print(c2.move(2,9))"
   ]
  },
  {
   "cell_type": "code",
   "execution_count": null,
   "id": "5443cb39-dc88-4ce3-99e8-10a41c8827b0",
   "metadata": {},
   "outputs": [],
   "source": [
    "print(c1.round())\n",
    "print(c2.round())"
   ]
  },
  {
   "cell_type": "code",
   "execution_count": null,
   "id": "2dd034d5-87ab-407c-bec2-076c15d6854f",
   "metadata": {},
   "outputs": [],
   "source": [
    "class Point():\n",
    "    def __init__(self, x, y):\n",
    "        self.x = x\n",
    "        self.y = y\n",
    "\n",
    "    def info(self):\n",
    "        return (self.x, self.y)"
   ]
  },
  {
   "cell_type": "code",
   "execution_count": null,
   "id": "24515f80-63b7-460c-964f-58df63a1d95b",
   "metadata": {},
   "outputs": [],
   "source": [
    "class Circle():\n",
    "    def __init__(self, point, r):\n",
    "        self.point = point\n",
    "        self.r = r\n",
    "\n",
    "    def info(self) :\n",
    "        return(self.point.x, self.point.y, self.r)\n",
    "\n",
    "    def move(self, x, y):\n",
    "        self.point.x = x\n",
    "        self.point.y = y"
   ]
  },
  {
   "cell_type": "code",
   "execution_count": null,
   "id": "4a1ea1de-43d8-4814-b3a5-deb5b5eefae1",
   "metadata": {},
   "outputs": [],
   "source": [
    "p1 = Point(1,2)\n",
    "print(p1.info())"
   ]
  },
  {
   "cell_type": "code",
   "execution_count": null,
   "id": "00ea60ce-dfad-40d3-bc91-11aa8284103c",
   "metadata": {},
   "outputs": [],
   "source": [
    "c1 = Circle(p1, 5)\n",
    "print(c1.info())"
   ]
  },
  {
   "cell_type": "code",
   "execution_count": null,
   "id": "bcb3f1de-8e50-43eb-8014-d2b95608220c",
   "metadata": {},
   "outputs": [],
   "source": [
    "c1.move(5, 5)\n",
    "print(c1.info())"
   ]
  },
  {
   "cell_type": "markdown",
   "id": "a9356f63-8bea-4ed7-afac-2a934735fafc",
   "metadata": {},
   "source": [
    "## 클래스 변수\n",
    "- 클래스 선언 블록 최상단에 우치\n",
    "\n",
    "### 인스턴트 변수\n",
    "- 인스턴트 내부에서 생성한 변수 (self.variavle = `)\n",
    "\n",
    "```python\n",
    "class MyClass():\n",
    " class_variable = '클래스변수'\n",
    "\n",
    " def __init__(self):\n",
    "     self.instance_variable = '인스턴트변수'\n",
    "```"
   ]
  },
  {
   "cell_type": "code",
   "execution_count": null,
   "id": "f692858e-77c8-4300-8e71-94d9fd6116ab",
   "metadata": {},
   "outputs": [],
   "source": [
    "class Person():\n",
    "    name = '홍길동'\n",
    "    phone = '010-123'\n",
    "    def __init__(self, name):\n",
    "        self.name = name"
   ]
  },
  {
   "cell_type": "code",
   "execution_count": null,
   "id": "d9ad2ca4-6ae2-4336-8070-92c42334f822",
   "metadata": {},
   "outputs": [],
   "source": [
    "p1 = Person('오창희')\n",
    "print(p1.phone) #클래스 변수 접근 \n",
    "print(p1.name) # 인스턴스 변수 접근"
   ]
  },
  {
   "cell_type": "code",
   "execution_count": null,
   "id": "7182307a-b25a-4137-8d07-a7323102ce13",
   "metadata": {},
   "outputs": [],
   "source": [
    "\n",
    "        "
   ]
  },
  {
   "cell_type": "markdown",
   "id": "17186f6d-f695-4279-8d25-6d9ea45c3e26",
   "metadata": {},
   "source": [
    "# 클래스 메소드 , 인스턴스 메소드, 스태틱 멕소드"
   ]
  },
  {
   "cell_type": "markdown",
   "id": "f7362566-d4f9-4e1c-b147-5020cad41c01",
   "metadata": {},
   "source": [
    "```python\n",
    "class MyClass():\n",
    "    def instance_methond(self):\n",
    "        pass\n",
    "        \n",
    "    @classmethod\n",
    "    def class_methond(cls):\n",
    "        pass\n",
    "\n",
    "    @staticmethod\n",
    "    def static_method():\n",
    "        pass\n",
    "```"
   ]
  },
  {
   "cell_type": "code",
   "execution_count": null,
   "id": "f110e73d-daf9-4a87-bf4c-111d992eed55",
   "metadata": {},
   "outputs": [],
   "source": [
    "class MyClass():\n",
    "    def instance_method(self):\n",
    "        return self\n",
    "        \n",
    "    @classmethod\n",
    "    def class_method(cls):\n",
    "        return cls\n",
    "\n",
    "    @staticmethod\n",
    "    def static_method():\n",
    "        return 'hello'\n"
   ]
  },
  {
   "cell_type": "code",
   "execution_count": null,
   "id": "f08d7393-acb1-40a6-a3ef-00cee1a87102",
   "metadata": {},
   "outputs": [],
   "source": [
    "c1 = MyClass()\n",
    "\n",
    "print(c1.instance_method())\n",
    "print(MyClass.class_method())"
   ]
  },
  {
   "cell_type": "code",
   "execution_count": null,
   "id": "25eaa3a4-2e4b-40bf-8ce1-c649db0e3809",
   "metadata": {},
   "outputs": [],
   "source": [
    "class Puppy():\n",
    "    num_of_puppy = 0\n",
    "\n",
    "    def __init__(self, name):\n",
    "        self.name = name\n",
    "        Puppy.num_of_puppy += 1\n",
    "\n",
    "    @classmethod\n",
    "    def get_status(cls):\n",
    "        print(f'현재 강아지는 {cls.num_of_puppy}마리입니다.')\n",
    "\n",
    "    @staticmethod\n",
    "    def bark():\n",
    "        print('멍멍')\n",
    "\n",
    "    def bark2(self):\n",
    "        print(f'내 이름은 {self.name}이야. 멍멍')"
   ]
  },
  {
   "cell_type": "code",
   "execution_count": null,
   "id": "aef989cb-cfe0-4a3a-bb46-2f4302b15d15",
   "metadata": {},
   "outputs": [],
   "source": [
    "p1 = Puppy('초코')\n",
    "p2 = Puppy('인절미')\n",
    "p3 = Puppy('별이')\n",
    "\n",
    "Puppy.get_status()\n",
    "\n",
    "p1.bark()\n",
    "p1.bark2()\n",
    "p2.bark2()\n",
    "p3.bark2()"
   ]
  },
  {
   "cell_type": "markdown",
   "id": "c51109ad-52b1-436e-9704-615144a061e9",
   "metadata": {},
   "source": [
    "## 상속"
   ]
  },
  {
   "cell_type": "code",
   "execution_count": null,
   "id": "93f6cdcf-fd82-4b18-bfd1-d14dd69fd8d2",
   "metadata": {},
   "outputs": [],
   "source": [
    "class Person():\n",
    "    ident = '111111-1111111'\n",
    "\n",
    "    def __init__(self,name):\n",
    "        self.name = name\n",
    "\n",
    "    def greeting(self):\n",
    "        print(f'안녕하세요 {self.name}입니다')"
   ]
  },
  {
   "cell_type": "code",
   "execution_count": null,
   "id": "35fd8d0e-378f-4484-bf95-8106d72d565e",
   "metadata": {},
   "outputs": [],
   "source": [
    "p1 = Person('홍길동')\n",
    "p2 = Person('이순신')"
   ]
  },
  {
   "cell_type": "code",
   "execution_count": null,
   "id": "5d6f34ab-4af1-4c6c-8c12-1c5cceb38258",
   "metadata": {},
   "outputs": [],
   "source": [
    "p1.greeting()\n",
    "p2.greeting()"
   ]
  },
  {
   "cell_type": "code",
   "execution_count": null,
   "id": "128efa0d-7571-471f-8582-18639e5a5baa",
   "metadata": {},
   "outputs": [],
   "source": [
    "class Soldier(Person):\n",
    "    #ident = '111111-1111111'\n",
    "\n",
    "#def __init__(self,name):\n",
    "#    self.name = name\n",
    "\n",
    "    def greeting2(self):\n",
    "        print(f'충성! {self.name}입니다.')"
   ]
  },
  {
   "cell_type": "code",
   "execution_count": null,
   "id": "997c9c4a-9899-4954-8c9d-16994b9f6c4d",
   "metadata": {},
   "outputs": [],
   "source": [
    "s1 = Soldier('국방이')\n",
    "s1.greeting()\n",
    "s1.greeting2()\n",
    "print(s1.ident)"
   ]
  },
  {
   "cell_type": "code",
   "execution_count": null,
   "id": "5dffb5fd-3a38-4433-9893-06da4cb73ff9",
   "metadata": {},
   "outputs": [],
   "source": [
    "class student(Person):\n",
    "    #ident = '111111-1111111'\n",
    "\n",
    "    #def __init__(self,name):\n",
    "    #    self.name = name\n",
    "\n",
    "    #def greeting(self):\n",
    "    #    print(f'충성! {self.name}입니다.')\n",
    "\n",
    "    student_id = '123456'\n",
    "\n",
    "    def __init__(self,student_id):\n",
    "        self.student_id = student_id"
   ]
  },
  {
   "cell_type": "code",
   "execution_count": null,
   "id": "cc4e048f-422e-43a7-98df-5f061453e0dc",
   "metadata": {},
   "outputs": [],
   "source": [
    "s1 = student('789789')\n",
    "s1.greeting()"
   ]
  },
  {
   "cell_type": "code",
   "execution_count": null,
   "id": "b7580124-e2da-490b-8873-f50b743d2082",
   "metadata": {},
   "outputs": [],
   "source": [
    "class Person() :\n",
    "    def __init__(self, name, email, phone, location):\n",
    "        self.name=name \n",
    "        self.email=email\n",
    "        self.phone=phone\n",
    "        self.location=location\n",
    "\n",
    "class Student(Person):\n",
    "    def __init__(self,name,email,phone,location, student_id):\n",
    "        super().__init__(name, email, phone, location)\n",
    "        self.student_id = student_id"
   ]
  },
  {
   "cell_type": "code",
   "execution_count": null,
   "id": "9f7cd9b2-a992-4d11-b222-a473880a9ca1",
   "metadata": {},
   "outputs": [],
   "source": [
    "p1 = Person('hong','test@naver.com','010-1234','seoul')\n",
    "s1 = Student('hong1','test@naver.com1','010-12341','seoul1','123123')"
   ]
  },
  {
   "cell_type": "markdown",
   "id": "710c238b-fd22-4180-af2e-1ba1e9e1e627",
   "metadata": {},
   "source": [
    "## 다중상속 "
   ]
  },
  {
   "cell_type": "code",
   "execution_count": null,
   "id": "002428d1-8c93-42dc-9448-d111d260b9f9",
   "metadata": {},
   "outputs": [],
   "source": [
    "class Person():\n",
    "    def __init__(self,name):\n",
    "        self.name = name\n",
    "        \n",
    "    def breath(self):\n",
    "        print('후하')"
   ]
  },
  {
   "cell_type": "code",
   "execution_count": null,
   "id": "ba560bdf-b42d-4114-93f4-b499b9361e1e",
   "metadata": {},
   "outputs": [],
   "source": [
    "class Mom(Person):\n",
    "    gene = 'xx'\n",
    "\n",
    "    def swim(self):\n",
    "        print('어푸어푸')"
   ]
  },
  {
   "cell_type": "code",
   "execution_count": null,
   "id": "86849f91-be78-414b-bdfd-7442e98f40f3",
   "metadata": {},
   "outputs": [],
   "source": [
    "class Dad(Person):\n",
    "    gene = 'xy'\n",
    "\n",
    "    def run(self):\n",
    "        print('다다다')"
   ]
  },
  {
   "cell_type": "code",
   "execution_count": null,
   "id": "5556d0fe-9a6b-4d4c-806d-290db3426cda",
   "metadata": {},
   "outputs": [],
   "source": [
    "class Baby(Dad, Mom):\n",
    "    pass"
   ]
  },
  {
   "cell_type": "code",
   "execution_count": null,
   "id": "c5f30bf7-3295-4653-8322-cfae7a9acaa6",
   "metadata": {},
   "outputs": [],
   "source": [
    "b = Baby('금쪽이')\n",
    "print(b.name)\n",
    "\n",
    "b.run()\n",
    "b.breath()\n",
    "\n",
    "print(b.gene)"
   ]
  },
  {
   "cell_type": "code",
   "execution_count": null,
   "id": "e57f66c8-3850-4ee7-8e51-28bfe6a3a639",
   "metadata": {},
   "outputs": [],
   "source": [
    "class Pocketmon():\n",
    "    def __init__(self, name):\n",
    "        self.name = name\n",
    "        self.level = 10\n",
    "        self.hp = self.level * 5\n",
    "        self.exp = 0\n",
    "\n",
    "    def attack(self, opponent):\n",
    "        damege = self.level\n",
    "        opponent.hp -= damege\n",
    "        if opponent.check_hp():\n",
    "            self.exp += 5\n",
    "\n",
    "    def check_hp(self):\n",
    "        return True if self.hp <= 0 else False\n",
    "\n",
    "    \n",
    "class WaterType():\n",
    "    type_name = 'water'\n",
    "\n",
    "class FireType():\n",
    "    type_name = 'fire'\n",
    "\n",
    "class WaterPocketmon(Pocketmon, WaterType):\n",
    "    def water_attack(self, opponent):\n",
    "        if opponent.type_name == 'fire':\n",
    "            damege = self.level * 1.5\n",
    "        else:\n",
    "            damege = self.level * 1.2\n",
    "        opponent.hp -= damege\n",
    "        print(f'{self.name}은 {opponent.name}에게 {damege}의 공격을 했다.')\n",
    "\n",
    "class FirePocketmon(Pocketmon, FireType):\n",
    "    def fire_attack(self, opponent):\n",
    "        damege = self.level * 2\n",
    "        opponent.hp -= damege\n",
    "        print(f'{self.name}은 {opponent.name}에게 {damege}의 공격을 했다.')\n",
    "\n",
    "\n",
    "koboki = WaterPocketmon('꼬부기')\n",
    "pairi = FirePocketmon('파이리')\n",
    "\n",
    "\n",
    "import random \n",
    "\n",
    "while not koboki.check_hp() or not pairi.check_hp():\n",
    "    random_attack = random.randint(0, 1)\n",
    "    \n",
    "    koboki.water_attack(pairi)\n",
    "    \n",
    "    if pairi.check_hp():\n",
    "        print(f'{pairi.name} 승리')\n",
    "        break\n",
    "\n",
    "    random_attack = random.randint(0, 1)\n",
    "    pairi.fire_attack(koboki)\n",
    "    \n",
    "    if koboki.check_hp():\n",
    "        print(f'{koboki.name} 승리')\n",
    "        break\n",
    "\n",
    "    \n",
    "    print(f'{koboki.name}: {koboki.hp}')\n",
    "    print(f'{pairi.name}: {pairi.hp}')"
   ]
  },
  {
   "cell_type": "code",
   "execution_count": null,
   "id": "fb98ae05-b158-4ff1-a68d-2401a8b8bd69",
   "metadata": {},
   "outputs": [],
   "source": []
  },
  {
   "cell_type": "code",
   "execution_count": null,
   "id": "afbbfd8e-edcf-4d2c-8fd7-ed818dd60f8a",
   "metadata": {},
   "outputs": [],
   "source": []
  }
 ],
 "metadata": {
  "kernelspec": {
   "display_name": "Python 3 (ipykernel)",
   "language": "python",
   "name": "python3"
  },
  "language_info": {
   "codemirror_mode": {
    "name": "ipython",
    "version": 3
   },
   "file_extension": ".py",
   "mimetype": "text/x-python",
   "name": "python",
   "nbconvert_exporter": "python",
   "pygments_lexer": "ipython3",
   "version": "3.12.4"
  }
 },
 "nbformat": 4,
 "nbformat_minor": 5
}
