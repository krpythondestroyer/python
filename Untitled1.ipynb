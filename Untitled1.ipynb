{
 "cells": [
  {
   "cell_type": "code",
   "execution_count": null,
   "id": "90633ca6-bd7b-4d0a-9955-6b5939a70fca",
   "metadata": {},
   "outputs": [],
   "source": [
    "payload = {\n",
    "    'method' : 'getLottoNumber',\n",
    "    'drwtNo' : 1126,\n",
    "}\n",
    "\n",
    "r = requests.get('https://www.dhlottery.co.kr/common.do?method=getLottoNumber&drwNo=1000', params=payload)\n",
    "#print(r.json())\n",
    "#print(type(r.json()))\n",
    "\n",
    "lotto_dict = r.json()\n",
    "print(lotto_dict['drwtNo1'])\n",
    "print(lotto_dict['drwtNo2'])\n",
    "print(lotto_dict['drwtNo3'])\n",
    "print(lotto_dict['drwtNo4'])\n",
    "print(lotto_dict['drwtNo5'])\n",
    "print(lotto_dict['drwtNo6'])\n",
    "\n",
    "#딕셔너리 형식\n",
    "#A = {\n",
    "#    '' : '',\n",
    "#    '' : '',\n",
    "#}\n"
   ]
  }
 ],
 "metadata": {
  "kernelspec": {
   "display_name": "Python 3 (ipykernel)",
   "language": "python",
   "name": "python3"
  },
  "language_info": {
   "codemirror_mode": {
    "name": "ipython",
    "version": 3
   },
   "file_extension": ".py",
   "mimetype": "text/x-python",
   "name": "python",
   "nbconvert_exporter": "python",
   "pygments_lexer": "ipython3",
   "version": "3.12.4"
  }
 },
 "nbformat": 4,
 "nbformat_minor": 5
}
