{
 "cells": [
  {
   "cell_type": "code",
   "execution_count": 4,
   "id": "ee15395a-6ee9-4d5f-937e-29be2315c7aa",
   "metadata": {},
   "outputs": [
    {
     "name": "stdout",
     "output_type": "stream",
     "text": [
      "{'서울': 2, '대전': 1, '부산': 1, '강릉': 1, 'LA': 1, '도쿄': 0, '파리': 1}\n"
     ]
    }
   ],
   "source": [
    "locations = ['서울','대전','서울','부산','강릉','LA','파리'] \n",
    "result  =  {'서울' : 0, '대전': 0 , '부산' : 0, '강릉': 0,'LA': 0,'도쿄': 0}\n",
    "\n",
    "for location in locations: \n",
    "    if result.get(location): result[location] +=1\n",
    "    else: result[location] =1\n",
    "\n",
    "print(result)\n"
   ]
  },
  {
   "cell_type": "markdown",
   "id": "760fe2f3-3869-41eb-b85a-039603af906e",
   "metadata": {},
   "source": [
    "중괄호 쓰는 경우 아닌 경우 헷갈림"
   ]
  },
  {
   "cell_type": "code",
   "execution_count": 6,
   "id": "397ad075-ba87-4919-ace3-0a2a8a4bccbb",
   "metadata": {},
   "outputs": [
    {
     "name": "stdout",
     "output_type": "stream",
     "text": [
      "{1: 1, 2: 8, 3: 27, 4: 64, 5: 125, 6: 216, 7: 343, 8: 512, 9: 729, 10: 1000}\n"
     ]
    }
   ],
   "source": [
    "# {1 : 1, 2: 8 , 3 : 27, ... 10: 1000}\n",
    "\n",
    "result = {}\n",
    "numbers = list(range(1,11))\n",
    "\n",
    "for number in numbers: \n",
    "    result[number] = number ** 3\n",
    "    \n",
    "print(result)"
   ]
  },
  {
   "cell_type": "code",
   "execution_count": 7,
   "id": "f7a9622b-e5ce-4acd-9e23-c8bc260c94cd",
   "metadata": {},
   "outputs": [
    {
     "name": "stdout",
     "output_type": "stream",
     "text": [
      "{'대전': 100, '부산': 90}\n"
     ]
    }
   ],
   "source": [
    "#1.for \n",
    "\n",
    "dust  =  {'서울' : 50, '대전': 100 , '광주' : 70, '부산': 90}\n",
    "\n",
    "# result = {'대전' : 100, '광주': 90}\n",
    "result = {}   \n",
    "for key,value in dust.items(): \n",
    "    if value > 70:\n",
    "        result[key] = value\n",
    "        \n",
    "print(result)"
   ]
  },
  {
   "cell_type": "code",
   "execution_count": null,
   "id": "66f5ea49-4162-4600-a692-d7606b32dc5e",
   "metadata": {},
   "outputs": [],
   "source": [
    "fruits = {'apple', 'banana', 'orange'}\n",
    "fruits.add('watermelon')\n",
    "print(fruits)\n"
   ]
  }
 ],
 "metadata": {
  "kernelspec": {
   "display_name": "Python 3 (ipykernel)",
   "language": "python",
   "name": "python3"
  },
  "language_info": {
   "codemirror_mode": {
    "name": "ipython",
    "version": 3
   },
   "file_extension": ".py",
   "mimetype": "text/x-python",
   "name": "python",
   "nbconvert_exporter": "python",
   "pygments_lexer": "ipython3",
   "version": "3.12.4"
  }
 },
 "nbformat": 4,
 "nbformat_minor": 5
}
